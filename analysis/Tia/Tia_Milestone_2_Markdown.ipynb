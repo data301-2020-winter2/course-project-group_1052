{
 "cells": [
  {
   "cell_type": "markdown",
   "id": "sonic-candle",
   "metadata": {},
   "source": [
    "# Markdown usage as illustrated by Tia Der"
   ]
  },
  {
   "cell_type": "markdown",
   "id": "narrow-america",
   "metadata": {},
   "source": [
    "## Who is Tia? Let's introduce her"
   ]
  },
  {
   "cell_type": "markdown",
   "id": "continuous-timeline",
   "metadata": {},
   "source": [
    "Tia is a team member of group_1052. She is a second year student majoring in statistics."
   ]
  },
  {
   "cell_type": "markdown",
   "id": "functional-orchestra",
   "metadata": {},
   "source": [
    "Tia has programmed (at least once) in the following languages:"
   ]
  },
  {
   "cell_type": "markdown",
   "id": "suffering-portland",
   "metadata": {},
   "source": [
    "1. Java"
   ]
  },
  {
   "cell_type": "markdown",
   "id": "victorian-friendship",
   "metadata": {},
   "source": [
    "2. R Studio"
   ]
  },
  {
   "cell_type": "markdown",
   "id": "related-fisher",
   "metadata": {},
   "source": [
    "3. Python"
   ]
  },
  {
   "cell_type": "markdown",
   "id": "continuing-convenience",
   "metadata": {},
   "source": [
    "## Here is an example of Tia using formats in Markdown"
   ]
  },
  {
   "cell_type": "markdown",
   "id": "illegal-foster",
   "metadata": {},
   "source": [
    " This is a paragraph. Here, the user is able to express or explain certain things that may pertain to the heading above. The user can emphasize themselves in various ways. They can *italicize* and **bold** text to help make their point."
   ]
  },
  {
   "cell_type": "markdown",
   "id": "developmental-royalty",
   "metadata": {},
   "source": [
    "### More to talk about? Here is a subheader"
   ]
  },
  {
   "cell_type": "markdown",
   "id": "thermal-assumption",
   "metadata": {},
   "source": [
    "It is observed that you can create many different headers of varying size. This is an **h3 header**, whilst the two above are **h2 headers**. The very first one is a **h1 header**."
   ]
  },
  {
   "cell_type": "markdown",
   "id": "abroad-terminal",
   "metadata": {},
   "source": [
    "## I want to show you something"
   ]
  },
  {
   "cell_type": "markdown",
   "id": "accessory-repeat",
   "metadata": {},
   "source": [
    "You can link things in Markdown as well! [Here is a link to a cat image](https://cdn.kinsights.com/cache/ec/29/ec29de5c006c25c6ef325144b5159803.jpg)"
   ]
  }
 ],
 "metadata": {
  "kernelspec": {
   "display_name": "Python 3",
   "language": "python",
   "name": "python3"
  },
  "language_info": {
   "codemirror_mode": {
    "name": "ipython",
    "version": 3
   },
   "file_extension": ".py",
   "mimetype": "text/x-python",
   "name": "python",
   "nbconvert_exporter": "python",
   "pygments_lexer": "ipython3",
   "version": "3.8.5"
  }
 },
 "nbformat": 4,
 "nbformat_minor": 5
}
