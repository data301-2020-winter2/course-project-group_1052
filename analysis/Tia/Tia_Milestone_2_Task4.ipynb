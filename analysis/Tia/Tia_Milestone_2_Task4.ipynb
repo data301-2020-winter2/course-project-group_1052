{
 "cells": [
  {
   "cell_type": "markdown",
   "id": "offensive-killing",
   "metadata": {},
   "source": [
    "# Task 4 EDA Analysis"
   ]
  },
  {
   "cell_type": "markdown",
   "id": "strong-stocks",
   "metadata": {},
   "source": [
    "**Find all of Tia's EDA analysis' here**"
   ]
  },
  {
   "cell_type": "markdown",
   "id": "cloudy-hardware",
   "metadata": {},
   "source": [
    "## Part 1: Importing the Function and all Other Relevant Packages"
   ]
  },
  {
   "cell_type": "markdown",
   "id": "ordered-premiere",
   "metadata": {},
   "source": [
    "I struggled getting the function from scripts to work. This was the only way I could figure out how to do it."
   ]
  },
  {
   "cell_type": "code",
   "execution_count": 2,
   "id": "static-shipping",
   "metadata": {},
   "outputs": [],
   "source": [
    "import os"
   ]
  },
  {
   "cell_type": "code",
   "execution_count": 11,
   "id": "equipped-conducting",
   "metadata": {},
   "outputs": [],
   "source": [
    "os.chdir('../../')"
   ]
  },
  {
   "cell_type": "code",
   "execution_count": 12,
   "id": "allied-librarian",
   "metadata": {},
   "outputs": [
    {
     "data": {
      "text/plain": [
       "'C:\\\\Users\\\\dmsda\\\\Desktop\\\\Office\\\\School\\\\2020-2021\\\\Cosc\\\\301\\\\course-project-group_1052'"
      ]
     },
     "execution_count": 12,
     "metadata": {},
     "output_type": "execute_result"
    }
   ],
   "source": [
    "os.getcwd()"
   ]
  },
  {
   "cell_type": "markdown",
   "id": "romantic-prototype",
   "metadata": {},
   "source": [
    "### Function Import"
   ]
  },
  {
   "cell_type": "code",
   "execution_count": 13,
   "id": "designed-deployment",
   "metadata": {},
   "outputs": [],
   "source": [
    "from analysis.scripts import project_functions as pf"
   ]
  },
  {
   "cell_type": "markdown",
   "id": "typical-lending",
   "metadata": {},
   "source": [
    "### Pandas and numpy import"
   ]
  },
  {
   "cell_type": "code",
   "execution_count": 14,
   "id": "parliamentary-drill",
   "metadata": {},
   "outputs": [],
   "source": [
    "import pandas as pd\n",
    "import numpy as np"
   ]
  },
  {
   "cell_type": "markdown",
   "id": "awful-static",
   "metadata": {},
   "source": [
    "### Visualization tools import"
   ]
  },
  {
   "cell_type": "code",
   "execution_count": 15,
   "id": "moderate-tampa",
   "metadata": {},
   "outputs": [],
   "source": [
    "import matplotlib.pyplot as plt\n",
    "import seaborn as sns\n",
    "import altair as alt"
   ]
  },
  {
   "cell_type": "markdown",
   "id": "given-disease",
   "metadata": {},
   "source": [
    "## Part 2: Loading in dataframe and testing to see if it worked"
   ]
  },
  {
   "cell_type": "code",
   "execution_count": 16,
   "id": "breathing-bibliography",
   "metadata": {},
   "outputs": [
    {
     "data": {
      "text/html": [
       "<div>\n",
       "<style scoped>\n",
       "    .dataframe tbody tr th:only-of-type {\n",
       "        vertical-align: middle;\n",
       "    }\n",
       "\n",
       "    .dataframe tbody tr th {\n",
       "        vertical-align: top;\n",
       "    }\n",
       "\n",
       "    .dataframe thead th {\n",
       "        text-align: right;\n",
       "    }\n",
       "</style>\n",
       "<table border=\"1\" class=\"dataframe\">\n",
       "  <thead>\n",
       "    <tr style=\"text-align: right;\">\n",
       "      <th></th>\n",
       "      <th>ogArtist</th>\n",
       "      <th>songName</th>\n",
       "      <th>badWord</th>\n",
       "      <th>count</th>\n",
       "      <th>category</th>\n",
       "      <th>year</th>\n",
       "      <th>ogLyric</th>\n",
       "      <th>kbLyric</th>\n",
       "    </tr>\n",
       "  </thead>\n",
       "  <tbody>\n",
       "    <tr>\n",
       "      <th>0</th>\n",
       "      <td>Ariana Grande</td>\n",
       "      <td>7 rings</td>\n",
       "      <td>bitch</td>\n",
       "      <td>2</td>\n",
       "      <td>profanity</td>\n",
       "      <td>2019</td>\n",
       "      <td>Bought matching diamonds for six of my bitches</td>\n",
       "      <td>Bought matching diamonds so they know what thi...</td>\n",
       "    </tr>\n",
       "    <tr>\n",
       "      <th>1</th>\n",
       "      <td>Britney Spears</td>\n",
       "      <td>till the world ends</td>\n",
       "      <td>blow</td>\n",
       "      <td>1</td>\n",
       "      <td>alcohol &amp; drugs</td>\n",
       "      <td>2011</td>\n",
       "      <td>Baby, let me blow your mind tonight</td>\n",
       "      <td>Baby, come on wave your hands tonight</td>\n",
       "    </tr>\n",
       "    <tr>\n",
       "      <th>2</th>\n",
       "      <td>Britney Spears</td>\n",
       "      <td>till the world ends</td>\n",
       "      <td>blow</td>\n",
       "      <td>2</td>\n",
       "      <td>alcohol &amp; drugs</td>\n",
       "      <td>2011</td>\n",
       "      <td>Baby, let me blow your mind tonight</td>\n",
       "      <td>Baby, come on wave your hands tonight</td>\n",
       "    </tr>\n",
       "    <tr>\n",
       "      <th>3</th>\n",
       "      <td>Britney Spears</td>\n",
       "      <td>till the world ends</td>\n",
       "      <td>touch</td>\n",
       "      <td>1</td>\n",
       "      <td>sexual</td>\n",
       "      <td>2011</td>\n",
       "      <td>Get you off with the touch, dancing in the dark</td>\n",
       "      <td>Set it off with a track dancing in the dark</td>\n",
       "    </tr>\n",
       "    <tr>\n",
       "      <th>4</th>\n",
       "      <td>Elle King</td>\n",
       "      <td>ex's and oh's</td>\n",
       "      <td>high</td>\n",
       "      <td>1</td>\n",
       "      <td>alcohol &amp; drugs</td>\n",
       "      <td>2016</td>\n",
       "      <td>I get high, and I love to get low</td>\n",
       "      <td>I get by, and I love to lay low</td>\n",
       "    </tr>\n",
       "  </tbody>\n",
       "</table>\n",
       "</div>"
      ],
      "text/plain": [
       "         ogArtist             songName badWord  count         category  year  \\\n",
       "0   Ariana Grande              7 rings   bitch      2        profanity  2019   \n",
       "1  Britney Spears  till the world ends    blow      1  alcohol & drugs  2011   \n",
       "2  Britney Spears  till the world ends    blow      2  alcohol & drugs  2011   \n",
       "3  Britney Spears  till the world ends   touch      1           sexual  2011   \n",
       "4       Elle King        ex's and oh's    high      1  alcohol & drugs  2016   \n",
       "\n",
       "                                           ogLyric  \\\n",
       "0   Bought matching diamonds for six of my bitches   \n",
       "1              Baby, let me blow your mind tonight   \n",
       "2              Baby, let me blow your mind tonight   \n",
       "3  Get you off with the touch, dancing in the dark   \n",
       "4                I get high, and I love to get low   \n",
       "\n",
       "                                             kbLyric  \n",
       "0  Bought matching diamonds so they know what thi...  \n",
       "1              Baby, come on wave your hands tonight  \n",
       "2              Baby, come on wave your hands tonight  \n",
       "3        Set it off with a track dancing in the dark  \n",
       "4                    I get by, and I love to lay low  "
      ]
     },
     "execution_count": 16,
     "metadata": {},
     "output_type": "execute_result"
    }
   ],
   "source": [
    "df = pf.load_df('data/raw/KB_censored-lyrics.csv')\n",
    "df.head()"
   ]
  },
  {
   "cell_type": "markdown",
   "id": "middle-video",
   "metadata": {},
   "source": [
    "## Part 2: Exploring the Dataframe"
   ]
  },
  {
   "cell_type": "markdown",
   "id": "dirty-salem",
   "metadata": {},
   "source": [
    "### Which song has the most swears in one context?"
   ]
  },
  {
   "cell_type": "code",
   "execution_count": 17,
   "id": "promising-allowance",
   "metadata": {},
   "outputs": [
    {
     "data": {
      "text/html": [
       "<div>\n",
       "<style scoped>\n",
       "    .dataframe tbody tr th:only-of-type {\n",
       "        vertical-align: middle;\n",
       "    }\n",
       "\n",
       "    .dataframe tbody tr th {\n",
       "        vertical-align: top;\n",
       "    }\n",
       "\n",
       "    .dataframe thead th {\n",
       "        text-align: right;\n",
       "    }\n",
       "</style>\n",
       "<table border=\"1\" class=\"dataframe\">\n",
       "  <thead>\n",
       "    <tr style=\"text-align: right;\">\n",
       "      <th></th>\n",
       "      <th>ogArtist</th>\n",
       "      <th>songName</th>\n",
       "      <th>badWord</th>\n",
       "      <th>count</th>\n",
       "      <th>category</th>\n",
       "      <th>year</th>\n",
       "      <th>ogLyric</th>\n",
       "      <th>kbLyric</th>\n",
       "    </tr>\n",
       "  </thead>\n",
       "  <tbody>\n",
       "    <tr>\n",
       "      <th>926</th>\n",
       "      <td>Major Lazer</td>\n",
       "      <td>lean on</td>\n",
       "      <td>blow</td>\n",
       "      <td>14</td>\n",
       "      <td>alcohol &amp; drugs</td>\n",
       "      <td>2015</td>\n",
       "      <td>Blow a kiss, fire a gun</td>\n",
       "      <td>Blow a kiss, you're the one</td>\n",
       "    </tr>\n",
       "  </tbody>\n",
       "</table>\n",
       "</div>"
      ],
      "text/plain": [
       "        ogArtist songName badWord  count         category  year  \\\n",
       "926  Major Lazer  lean on    blow     14  alcohol & drugs  2015   \n",
       "\n",
       "                     ogLyric                      kbLyric  \n",
       "926  Blow a kiss, fire a gun  Blow a kiss, you're the one  "
      ]
     },
     "execution_count": 17,
     "metadata": {},
     "output_type": "execute_result"
    }
   ],
   "source": [
    "df[df['count']==df.loc[:,'count'].max()]"
   ]
  },
  {
   "cell_type": "markdown",
   "id": "informational-ranch",
   "metadata": {},
   "source": [
    "### Which songs have the f word in them?"
   ]
  },
  {
   "cell_type": "code",
   "execution_count": 18,
   "id": "minute-reviewer",
   "metadata": {},
   "outputs": [
    {
     "data": {
      "text/html": [
       "<div>\n",
       "<style scoped>\n",
       "    .dataframe tbody tr th:only-of-type {\n",
       "        vertical-align: middle;\n",
       "    }\n",
       "\n",
       "    .dataframe tbody tr th {\n",
       "        vertical-align: top;\n",
       "    }\n",
       "\n",
       "    .dataframe thead th {\n",
       "        text-align: right;\n",
       "    }\n",
       "</style>\n",
       "<table border=\"1\" class=\"dataframe\">\n",
       "  <thead>\n",
       "    <tr style=\"text-align: right;\">\n",
       "      <th></th>\n",
       "      <th>ogArtist</th>\n",
       "      <th>songName</th>\n",
       "      <th>badWord</th>\n",
       "      <th>count</th>\n",
       "      <th>category</th>\n",
       "      <th>year</th>\n",
       "      <th>ogLyric</th>\n",
       "      <th>kbLyric</th>\n",
       "    </tr>\n",
       "  </thead>\n",
       "  <tbody>\n",
       "    <tr>\n",
       "      <th>16</th>\n",
       "      <td>Hilltop Hoods</td>\n",
       "      <td>exit sign</td>\n",
       "      <td>fuck</td>\n",
       "      <td>1</td>\n",
       "      <td>profanity</td>\n",
       "      <td>2019</td>\n",
       "      <td>But I don't give a fuck about the money</td>\n",
       "      <td>But I don't give a thought about the money</td>\n",
       "    </tr>\n",
       "    <tr>\n",
       "      <th>17</th>\n",
       "      <td>Hilltop Hoods</td>\n",
       "      <td>exit sign</td>\n",
       "      <td>fuck</td>\n",
       "      <td>2</td>\n",
       "      <td>profanity</td>\n",
       "      <td>2019</td>\n",
       "      <td>And I don't give a fuck about the party</td>\n",
       "      <td>And I don't give a thought about the party</td>\n",
       "    </tr>\n",
       "    <tr>\n",
       "      <th>18</th>\n",
       "      <td>Hilltop Hoods</td>\n",
       "      <td>exit sign</td>\n",
       "      <td>fuck</td>\n",
       "      <td>3</td>\n",
       "      <td>profanity</td>\n",
       "      <td>2019</td>\n",
       "      <td>I give a fuck about in this phoney world is Ari</td>\n",
       "      <td>I give a thought about in this phoney world is...</td>\n",
       "    </tr>\n",
       "    <tr>\n",
       "      <th>96</th>\n",
       "      <td>Ariana Grande</td>\n",
       "      <td>​break up with your girlfriend, i'm bored</td>\n",
       "      <td>fuck</td>\n",
       "      <td>1</td>\n",
       "      <td>profanity</td>\n",
       "      <td>2019</td>\n",
       "      <td>Took one fuckin' look at your face (Hmm)</td>\n",
       "      <td>Took another look at your face (Hmm)</td>\n",
       "    </tr>\n",
       "    <tr>\n",
       "      <th>97</th>\n",
       "      <td>Ariana Grande</td>\n",
       "      <td>​break up with your girlfriend, i'm bored</td>\n",
       "      <td>fuck</td>\n",
       "      <td>2</td>\n",
       "      <td>profanity</td>\n",
       "      <td>2019</td>\n",
       "      <td>And I never even ever fuckin' met you</td>\n",
       "      <td>cuts verse</td>\n",
       "    </tr>\n",
       "    <tr>\n",
       "      <th>...</th>\n",
       "      <td>...</td>\n",
       "      <td>...</td>\n",
       "      <td>...</td>\n",
       "      <td>...</td>\n",
       "      <td>...</td>\n",
       "      <td>...</td>\n",
       "      <td>...</td>\n",
       "      <td>...</td>\n",
       "    </tr>\n",
       "    <tr>\n",
       "      <th>1339</th>\n",
       "      <td>Zara Larsson</td>\n",
       "      <td>ruin my life</td>\n",
       "      <td>fuck</td>\n",
       "      <td>8</td>\n",
       "      <td>profanity</td>\n",
       "      <td>2019</td>\n",
       "      <td>Fuck up my nights, yeah, all of my nights, yeah</td>\n",
       "      <td>Ruin my nights, yeah, all of my nights, yeah</td>\n",
       "    </tr>\n",
       "    <tr>\n",
       "      <th>1340</th>\n",
       "      <td>Zara Larsson</td>\n",
       "      <td>ruin my life</td>\n",
       "      <td>fuck</td>\n",
       "      <td>9</td>\n",
       "      <td>profanity</td>\n",
       "      <td>2019</td>\n",
       "      <td>I want you to fuck up my nights, yeah</td>\n",
       "      <td>I want you to ruin my nights, yeah</td>\n",
       "    </tr>\n",
       "    <tr>\n",
       "      <th>1341</th>\n",
       "      <td>Zara Larsson</td>\n",
       "      <td>ruin my life</td>\n",
       "      <td>fuck</td>\n",
       "      <td>10</td>\n",
       "      <td>profanity</td>\n",
       "      <td>2019</td>\n",
       "      <td>Fuck up my nights, yeah, all of my nights, yea...</td>\n",
       "      <td>Ruin my nights, yeah, all of my nights, yeah</td>\n",
       "    </tr>\n",
       "    <tr>\n",
       "      <th>1342</th>\n",
       "      <td>Zara Larsson</td>\n",
       "      <td>ruin my life</td>\n",
       "      <td>fuck</td>\n",
       "      <td>11</td>\n",
       "      <td>profanity</td>\n",
       "      <td>2019</td>\n",
       "      <td>I want you to fuck up my nights, yeah</td>\n",
       "      <td>I want you to ruin my nights, yeah</td>\n",
       "    </tr>\n",
       "    <tr>\n",
       "      <th>1343</th>\n",
       "      <td>Zara Larsson</td>\n",
       "      <td>ruin my life</td>\n",
       "      <td>fuck</td>\n",
       "      <td>12</td>\n",
       "      <td>profanity</td>\n",
       "      <td>2019</td>\n",
       "      <td>Fuck up my nights, yeah, all of my nights, yea...</td>\n",
       "      <td>Ruin my nights, yeah, all of my nights, yeah</td>\n",
       "    </tr>\n",
       "  </tbody>\n",
       "</table>\n",
       "<p>89 rows × 8 columns</p>\n",
       "</div>"
      ],
      "text/plain": [
       "           ogArtist                                   songName badWord  count  \\\n",
       "16    Hilltop Hoods                                  exit sign    fuck      1   \n",
       "17    Hilltop Hoods                                  exit sign    fuck      2   \n",
       "18    Hilltop Hoods                                  exit sign    fuck      3   \n",
       "96    Ariana Grande  ​break up with your girlfriend, i'm bored    fuck      1   \n",
       "97    Ariana Grande  ​break up with your girlfriend, i'm bored    fuck      2   \n",
       "...             ...                                        ...     ...    ...   \n",
       "1339   Zara Larsson                               ruin my life    fuck      8   \n",
       "1340   Zara Larsson                               ruin my life    fuck      9   \n",
       "1341   Zara Larsson                               ruin my life    fuck     10   \n",
       "1342   Zara Larsson                               ruin my life    fuck     11   \n",
       "1343   Zara Larsson                               ruin my life    fuck     12   \n",
       "\n",
       "       category  year                                            ogLyric  \\\n",
       "16    profanity  2019            But I don't give a fuck about the money   \n",
       "17    profanity  2019            And I don't give a fuck about the party   \n",
       "18    profanity  2019    I give a fuck about in this phoney world is Ari   \n",
       "96    profanity  2019           Took one fuckin' look at your face (Hmm)   \n",
       "97    profanity  2019              And I never even ever fuckin' met you   \n",
       "...         ...   ...                                                ...   \n",
       "1339  profanity  2019    Fuck up my nights, yeah, all of my nights, yeah   \n",
       "1340  profanity  2019              I want you to fuck up my nights, yeah   \n",
       "1341  profanity  2019  Fuck up my nights, yeah, all of my nights, yea...   \n",
       "1342  profanity  2019              I want you to fuck up my nights, yeah   \n",
       "1343  profanity  2019  Fuck up my nights, yeah, all of my nights, yea...   \n",
       "\n",
       "                                                kbLyric  \n",
       "16           But I don't give a thought about the money  \n",
       "17           And I don't give a thought about the party  \n",
       "18    I give a thought about in this phoney world is...  \n",
       "96                 Took another look at your face (Hmm)  \n",
       "97                                           cuts verse  \n",
       "...                                                 ...  \n",
       "1339       Ruin my nights, yeah, all of my nights, yeah  \n",
       "1340                 I want you to ruin my nights, yeah  \n",
       "1341       Ruin my nights, yeah, all of my nights, yeah  \n",
       "1342                 I want you to ruin my nights, yeah  \n",
       "1343       Ruin my nights, yeah, all of my nights, yeah  \n",
       "\n",
       "[89 rows x 8 columns]"
      ]
     },
     "execution_count": 18,
     "metadata": {},
     "output_type": "execute_result"
    }
   ],
   "source": [
    "df[(df['badWord']=='fuck')]"
   ]
  },
  {
   "cell_type": "markdown",
   "id": "boring-cancellation",
   "metadata": {},
   "source": [
    "### Playing around with dataframes"
   ]
  },
  {
   "cell_type": "markdown",
   "id": "wanted-integration",
   "metadata": {},
   "source": [
    "#### Finding what bad word is the most used"
   ]
  },
  {
   "cell_type": "code",
   "execution_count": 19,
   "id": "accessory-insider",
   "metadata": {},
   "outputs": [
    {
     "data": {
      "text/html": [
       "<div>\n",
       "<style scoped>\n",
       "    .dataframe tbody tr th:only-of-type {\n",
       "        vertical-align: middle;\n",
       "    }\n",
       "\n",
       "    .dataframe tbody tr th {\n",
       "        vertical-align: top;\n",
       "    }\n",
       "\n",
       "    .dataframe thead th {\n",
       "        text-align: right;\n",
       "    }\n",
       "</style>\n",
       "<table border=\"1\" class=\"dataframe\">\n",
       "  <thead>\n",
       "    <tr style=\"text-align: right;\">\n",
       "      <th></th>\n",
       "      <th>badWord</th>\n",
       "      <th>value</th>\n",
       "    </tr>\n",
       "  </thead>\n",
       "  <tbody>\n",
       "    <tr>\n",
       "      <th>0</th>\n",
       "      <td>fuck</td>\n",
       "      <td>89</td>\n",
       "    </tr>\n",
       "    <tr>\n",
       "      <th>1</th>\n",
       "      <td>shit</td>\n",
       "      <td>77</td>\n",
       "    </tr>\n",
       "    <tr>\n",
       "      <th>2</th>\n",
       "      <td>damn</td>\n",
       "      <td>68</td>\n",
       "    </tr>\n",
       "    <tr>\n",
       "      <th>3</th>\n",
       "      <td>man</td>\n",
       "      <td>57</td>\n",
       "    </tr>\n",
       "    <tr>\n",
       "      <th>4</th>\n",
       "      <td>kiss</td>\n",
       "      <td>53</td>\n",
       "    </tr>\n",
       "    <tr>\n",
       "      <th>5</th>\n",
       "      <td>bitch</td>\n",
       "      <td>39</td>\n",
       "    </tr>\n",
       "    <tr>\n",
       "      <th>6</th>\n",
       "      <td>god</td>\n",
       "      <td>34</td>\n",
       "    </tr>\n",
       "    <tr>\n",
       "      <th>7</th>\n",
       "      <td>drink</td>\n",
       "      <td>33</td>\n",
       "    </tr>\n",
       "    <tr>\n",
       "      <th>8</th>\n",
       "      <td>body</td>\n",
       "      <td>31</td>\n",
       "    </tr>\n",
       "    <tr>\n",
       "      <th>9</th>\n",
       "      <td>touch</td>\n",
       "      <td>31</td>\n",
       "    </tr>\n",
       "    <tr>\n",
       "      <th>10</th>\n",
       "      <td>high</td>\n",
       "      <td>28</td>\n",
       "    </tr>\n",
       "    <tr>\n",
       "      <th>11</th>\n",
       "      <td>kill</td>\n",
       "      <td>28</td>\n",
       "    </tr>\n",
       "    <tr>\n",
       "      <th>12</th>\n",
       "      <td>sex</td>\n",
       "      <td>27</td>\n",
       "    </tr>\n",
       "    <tr>\n",
       "      <th>13</th>\n",
       "      <td>woman</td>\n",
       "      <td>27</td>\n",
       "    </tr>\n",
       "    <tr>\n",
       "      <th>14</th>\n",
       "      <td>blow</td>\n",
       "      <td>26</td>\n",
       "    </tr>\n",
       "    <tr>\n",
       "      <th>15</th>\n",
       "      <td>ass</td>\n",
       "      <td>26</td>\n",
       "    </tr>\n",
       "    <tr>\n",
       "      <th>16</th>\n",
       "      <td>die</td>\n",
       "      <td>23</td>\n",
       "    </tr>\n",
       "    <tr>\n",
       "      <th>17</th>\n",
       "      <td>drunk</td>\n",
       "      <td>23</td>\n",
       "    </tr>\n",
       "    <tr>\n",
       "      <th>18</th>\n",
       "      <td>sleep</td>\n",
       "      <td>21</td>\n",
       "    </tr>\n",
       "  </tbody>\n",
       "</table>\n",
       "</div>"
      ],
      "text/plain": [
       "   badWord  value\n",
       "0     fuck     89\n",
       "1     shit     77\n",
       "2     damn     68\n",
       "3      man     57\n",
       "4     kiss     53\n",
       "5    bitch     39\n",
       "6      god     34\n",
       "7    drink     33\n",
       "8     body     31\n",
       "9    touch     31\n",
       "10    high     28\n",
       "11    kill     28\n",
       "12     sex     27\n",
       "13   woman     27\n",
       "14    blow     26\n",
       "15     ass     26\n",
       "16     die     23\n",
       "17   drunk     23\n",
       "18   sleep     21"
      ]
     },
     "execution_count": 19,
     "metadata": {},
     "output_type": "execute_result"
    }
   ],
   "source": [
    "dfBadWord_freq = (pd.DataFrame(df['badWord']\n",
    "                  .value_counts())\n",
    "                  .reset_index()\n",
    "                  .rename(columns={'index':'badWord','badWord':'value'})\n",
    "                  .loc[lambda x: x['value'] >= 20]\n",
    "                 )\n",
    "dfBadWord_freq"
   ]
  },
  {
   "cell_type": "markdown",
   "id": "still-remove",
   "metadata": {},
   "source": [
    "#### Visualize with graph"
   ]
  },
  {
   "cell_type": "code",
   "execution_count": 20,
   "id": "colonial-excellence",
   "metadata": {},
   "outputs": [
    {
     "data": {
      "text/plain": [
       "Text(0.5, 0, 'Frequency of bad word')"
      ]
     },
     "execution_count": 20,
     "metadata": {},
     "output_type": "execute_result"
    },
    {
     "data": {
      "image/png": "[encoded data removed]",
      "text/plain": [
       "<Figure size 432x288 with 1 Axes>"
      ]
     },
     "metadata": {
      "needs_background": "light"
     },
     "output_type": "display_data"
    }
   ],
   "source": [
    "sns.countplot(data=df,\n",
    "              y='badWord',\n",
    "              order = df['badWord'].value_counts().iloc[:5].index,\n",
    "              palette = 'pastel'\n",
    "             )\n",
    "plt.title('Frequency of swear words')\n",
    "plt.ylabel('Bad Word')\n",
    "plt.xlabel('Frequency of bad word')"
   ]
  },
  {
   "cell_type": "markdown",
   "id": "crazy-mitchell",
   "metadata": {},
   "source": [
    "#### Which artist says the f word the most?"
   ]
  },
  {
   "cell_type": "markdown",
   "id": "future-impression",
   "metadata": {},
   "source": [
    "Looks like it's Macklemore & Ryan Lewis!"
   ]
  },
  {
   "cell_type": "code",
   "execution_count": 21,
   "id": "sensitive-wrist",
   "metadata": {},
   "outputs": [
    {
     "data": {
      "text/plain": [
       "Macklemore & Ryan Lewis    13\n",
       "Zara Larsson               12\n",
       "Ariana Grande               9\n",
       "Maroon 5                    8\n",
       "DNCE                        7\n",
       "Hilltop Hoods               6\n",
       "Travie McCoy                3\n",
       "Rihanna                     3\n",
       "Fort Minor                  3\n",
       "Justin Timberlake           3\n",
       "Drake                       2\n",
       "Demi Lovato                 2\n",
       "Halsey                      2\n",
       "Lizzo                       2\n",
       "Tinie Tempah                1\n",
       "Fergie                      1\n",
       "Bruno Mars                  1\n",
       "Post Malone                 1\n",
       "Taio Cruz                   1\n",
       "David Guetta                1\n",
       "Green Day                   1\n",
       "Shop Boyz                   1\n",
       "James Blunt                 1\n",
       "DJ Khaled                   1\n",
       "​fun.                       1\n",
       "Iggy Azalea                 1\n",
       "Estelle                     1\n",
       "Ellie Goulding & Diplo      1\n",
       "Name: ogArtist, dtype: int64"
      ]
     },
     "execution_count": 21,
     "metadata": {},
     "output_type": "execute_result"
    }
   ],
   "source": [
    "df_fword = df[df['badWord']=='fuck']\n",
    "df_fword['ogArtist'].value_counts()"
   ]
  },
  {
   "cell_type": "markdown",
   "id": "different-theater",
   "metadata": {},
   "source": [
    "#### What kind of swears do Macklemore & Ryan Lewis use?"
   ]
  },
  {
   "cell_type": "code",
   "execution_count": 22,
   "id": "married-coast",
   "metadata": {},
   "outputs": [
    {
     "data": {
      "text/plain": [
       "fuck       13\n",
       "hella       8\n",
       "shit        5\n",
       "man         5\n",
       "damn        4\n",
       "hell        2\n",
       "bitch       2\n",
       "ass         2\n",
       "dope        2\n",
       "ball        1\n",
       "piss        1\n",
       "pimp        1\n",
       "cock        1\n",
       "scrotum     1\n",
       "bullet      1\n",
       "body        1\n",
       "god         1\n",
       "kill        1\n",
       "Name: badWord, dtype: int64"
      ]
     },
     "execution_count": 22,
     "metadata": {},
     "output_type": "execute_result"
    }
   ],
   "source": [
    "df_artistSwears = df[df['ogArtist']=='Macklemore & Ryan Lewis']['badWord'].value_counts()\n",
    "df_artistSwears"
   ]
  },
  {
   "cell_type": "markdown",
   "id": "conventional-publisher",
   "metadata": {},
   "source": [
    "#### Usage of swear words over the years"
   ]
  },
  {
   "cell_type": "code",
   "execution_count": 23,
   "id": "classified-ukraine",
   "metadata": {},
   "outputs": [
    {
     "data": {
      "text/plain": [
       "2001      3\n",
       "2002     19\n",
       "2003      8\n",
       "2004      7\n",
       "2005      5\n",
       "2006     28\n",
       "2007     64\n",
       "2008     33\n",
       "2009     67\n",
       "2010     89\n",
       "2011     35\n",
       "2012     80\n",
       "2013     73\n",
       "2014     76\n",
       "2015    171\n",
       "2016    109\n",
       "2017    170\n",
       "2018    127\n",
       "2019    189\n",
       "Name: year, dtype: int64"
      ]
     },
     "execution_count": 23,
     "metadata": {},
     "output_type": "execute_result"
    }
   ],
   "source": [
    "df_byYears = df.sort_values(by='year')\n",
    "df_byYears['year'].value_counts().sort_values().sort_index()"
   ]
  },
  {
   "cell_type": "markdown",
   "id": "offshore-scholarship",
   "metadata": {},
   "source": [
    "#### Visualizing this using a histogram"
   ]
  },
  {
   "cell_type": "code",
   "execution_count": 24,
   "id": "checked-moscow",
   "metadata": {},
   "outputs": [
    {
     "data": {
      "text/plain": [
       "<AxesSubplot:xlabel='year', ylabel='count'>"
      ]
     },
     "execution_count": 24,
     "metadata": {},
     "output_type": "execute_result"
    },
    {
     "data": {
      "image/png": "[encoded data removed]",
      "text/plain": [
       "<Figure size 432x288 with 1 Axes>"
      ]
     },
     "metadata": {
      "needs_background": "light"
     },
     "output_type": "display_data"
    }
   ],
   "source": [
    "sns.countplot(data=df,\n",
    "              x=df['year'],\n",
    "              order = df['year'].sort_values().drop_duplicates()\n",
    "             )"
   ]
  },
  {
   "cell_type": "markdown",
   "id": "above-korea",
   "metadata": {},
   "source": [
    "#### Finding the usage of the f word over the years"
   ]
  },
  {
   "cell_type": "code",
   "execution_count": 25,
   "id": "popular-budapest",
   "metadata": {},
   "outputs": [
    {
     "data": {
      "text/html": [
       "<div>\n",
       "<style scoped>\n",
       "    .dataframe tbody tr th:only-of-type {\n",
       "        vertical-align: middle;\n",
       "    }\n",
       "\n",
       "    .dataframe tbody tr th {\n",
       "        vertical-align: top;\n",
       "    }\n",
       "\n",
       "    .dataframe thead th {\n",
       "        text-align: right;\n",
       "    }\n",
       "</style>\n",
       "<table border=\"1\" class=\"dataframe\">\n",
       "  <thead>\n",
       "    <tr style=\"text-align: right;\">\n",
       "      <th></th>\n",
       "      <th>year</th>\n",
       "      <th>value</th>\n",
       "    </tr>\n",
       "  </thead>\n",
       "  <tbody>\n",
       "    <tr>\n",
       "      <th>0</th>\n",
       "      <td>2019</td>\n",
       "      <td>32</td>\n",
       "    </tr>\n",
       "    <tr>\n",
       "      <th>1</th>\n",
       "      <td>2018</td>\n",
       "      <td>2</td>\n",
       "    </tr>\n",
       "    <tr>\n",
       "      <th>2</th>\n",
       "      <td>2017</td>\n",
       "      <td>8</td>\n",
       "    </tr>\n",
       "    <tr>\n",
       "      <th>3</th>\n",
       "      <td>2016</td>\n",
       "      <td>10</td>\n",
       "    </tr>\n",
       "    <tr>\n",
       "      <th>4</th>\n",
       "      <td>2015</td>\n",
       "      <td>2</td>\n",
       "    </tr>\n",
       "    <tr>\n",
       "      <th>5</th>\n",
       "      <td>2014</td>\n",
       "      <td>4</td>\n",
       "    </tr>\n",
       "    <tr>\n",
       "      <th>6</th>\n",
       "      <td>2013</td>\n",
       "      <td>11</td>\n",
       "    </tr>\n",
       "    <tr>\n",
       "      <th>7</th>\n",
       "      <td>2012</td>\n",
       "      <td>4</td>\n",
       "    </tr>\n",
       "    <tr>\n",
       "      <th>8</th>\n",
       "      <td>2011</td>\n",
       "      <td>2</td>\n",
       "    </tr>\n",
       "    <tr>\n",
       "      <th>9</th>\n",
       "      <td>2010</td>\n",
       "      <td>3</td>\n",
       "    </tr>\n",
       "    <tr>\n",
       "      <th>10</th>\n",
       "      <td>2009</td>\n",
       "      <td>1</td>\n",
       "    </tr>\n",
       "    <tr>\n",
       "      <th>11</th>\n",
       "      <td>2008</td>\n",
       "      <td>1</td>\n",
       "    </tr>\n",
       "    <tr>\n",
       "      <th>12</th>\n",
       "      <td>2007</td>\n",
       "      <td>4</td>\n",
       "    </tr>\n",
       "    <tr>\n",
       "      <th>13</th>\n",
       "      <td>2006</td>\n",
       "      <td>4</td>\n",
       "    </tr>\n",
       "    <tr>\n",
       "      <th>14</th>\n",
       "      <td>2005</td>\n",
       "      <td>1</td>\n",
       "    </tr>\n",
       "  </tbody>\n",
       "</table>\n",
       "</div>"
      ],
      "text/plain": [
       "    year  value\n",
       "0   2019     32\n",
       "1   2018      2\n",
       "2   2017      8\n",
       "3   2016     10\n",
       "4   2015      2\n",
       "5   2014      4\n",
       "6   2013     11\n",
       "7   2012      4\n",
       "8   2011      2\n",
       "9   2010      3\n",
       "10  2009      1\n",
       "11  2008      1\n",
       "12  2007      4\n",
       "13  2006      4\n",
       "14  2005      1"
      ]
     },
     "execution_count": 25,
     "metadata": {},
     "output_type": "execute_result"
    }
   ],
   "source": [
    "df_fWord = df[df['badWord']=='fuck']\n",
    "df_fWord= (pd.DataFrame(df_fWord['year']\n",
    "                        .value_counts())\n",
    "           .reset_index()\n",
    "           .rename(columns={'year':'value','index':'year'})\n",
    "           .sort_values(by='year', ascending = False)\n",
    "           .reset_index()\n",
    "           .drop(columns='index')\n",
    "          )\n",
    "df_fWord"
   ]
  },
  {
   "cell_type": "markdown",
   "id": "comprehensive-drunk",
   "metadata": {},
   "source": [
    "#### Visualizing this change using a line plot"
   ]
  },
  {
   "cell_type": "code",
   "execution_count": 37,
   "id": "domestic-indonesia",
   "metadata": {},
   "outputs": [
    {
     "data": {
      "image/png": "[encoded data removed]",
      "text/plain": [
       "<Figure size 432x288 with 1 Axes>"
      ]
     },
     "metadata": {
      "needs_background": "light"
     },
     "output_type": "display_data"
    }
   ],
   "source": [
    "sns.lineplot(data=df_fWord, x='year', y='value')\n",
    "plt.title('Usage of the f word over the years')\n",
    "plt.yticks(range(0,36,5));"
   ]
  },
  {
   "cell_type": "code",
   "execution_count": 36,
   "id": "infrared-dating",
   "metadata": {},
   "outputs": [
    {
     "data": {
      "image/png": "[encoded data removed]",
      "text/plain": [
       "<Figure size 432x288 with 1 Axes>"
      ]
     },
     "metadata": {
      "needs_background": "light"
     },
     "output_type": "display_data"
    }
   ],
   "source": [
    "sns.lineplot(data=pf.badWorddf(df,'badWord','shit'),\n",
    "             x='year',\n",
    "             y='value'\n",
    "            )\n",
    "plt.yticks(range(0,36,5))\n",
    "plt.xticks(range(2002,2020,2));"
   ]
  },
  {
   "cell_type": "code",
   "execution_count": 38,
   "id": "hungry-interest",
   "metadata": {},
   "outputs": [
    {
     "data": {
      "image/png": "[encoded data removed]",
      "text/plain": [
       "<Figure size 432x288 with 1 Axes>"
      ]
     },
     "metadata": {
      "needs_background": "light"
     },
     "output_type": "display_data"
    }
   ],
   "source": [
    "sns.lineplot(data=pf.badWorddf(df,'badWord','damn'),\n",
    "             x='year',\n",
    "             y='value'\n",
    "            );\n",
    "plt.yticks(range(0,36,5));"
   ]
  },
  {
   "cell_type": "code",
   "execution_count": 39,
   "id": "acting-muscle",
   "metadata": {},
   "outputs": [
    {
     "data": {
      "image/png": "[encoded data removed]",
      "text/plain": [
       "<Figure size 432x288 with 1 Axes>"
      ]
     },
     "metadata": {
      "needs_background": "light"
     },
     "output_type": "display_data"
    }
   ],
   "source": [
    "sns.lineplot(data=pf.badWorddf(df,'badWord','man'),\n",
    "             x='year',\n",
    "             y='value'\n",
    "            )\n",
    "plt.yticks(range(0,36,5))\n",
    "plt.xticks(range(2002,2020,2));"
   ]
  },
  {
   "cell_type": "code",
   "execution_count": 43,
   "id": "standing-mayor",
   "metadata": {},
   "outputs": [
    {
     "data": {
      "image/png": "[encoded data removed]",
      "text/plain": [
       "<Figure size 432x288 with 1 Axes>"
      ]
     },
     "metadata": {
      "needs_background": "light"
     },
     "output_type": "display_data"
    }
   ],
   "source": [
    "sns.lineplot(data=pf.badWorddf(df,'badWord','kiss'),\n",
    "             x='year',\n",
    "             y='value'\n",
    "            )\n",
    "plt.yticks(range(0,36,5))\n",
    "plt.xticks(range(2002,2020,2));"
   ]
  },
  {
   "cell_type": "markdown",
   "id": "reported-mobile",
   "metadata": {},
   "source": [
    "#### Identity Category"
   ]
  },
  {
   "cell_type": "markdown",
   "id": "personal-generation",
   "metadata": {},
   "source": [
    "I observed that amongst the most frequently used bad words, 'man' was among them. The word man is under the identity category, thus I sorted the dataframe to see what other words were categorized as identity"
   ]
  },
  {
   "cell_type": "code",
   "execution_count": 26,
   "id": "convertible-voice",
   "metadata": {},
   "outputs": [
    {
     "data": {
      "text/plain": [
       "5    identity\n",
       "Name: category, dtype: object"
      ]
     },
     "execution_count": 26,
     "metadata": {},
     "output_type": "execute_result"
    }
   ],
   "source": [
    "df[df['badWord'] == 'man'].loc[:,'category'].drop_duplicates()"
   ]
  },
  {
   "cell_type": "code",
   "execution_count": 11,
   "id": "worse-stable",
   "metadata": {},
   "outputs": [
    {
     "data": {
      "text/plain": [
       "man            57\n",
       "woman          27\n",
       "men             7\n",
       "women           3\n",
       "lesbian         1\n",
       "transgender     1\n",
       "gay             1\n",
       "Name: badWord, dtype: int64"
      ]
     },
     "execution_count": 11,
     "metadata": {},
     "output_type": "execute_result"
    }
   ],
   "source": [
    "df[df['category']=='identity']['badWord'].value_counts()"
   ]
  },
  {
   "cell_type": "code",
   "execution_count": 27,
   "id": "hazardous-western",
   "metadata": {},
   "outputs": [
    {
     "data": {
      "text/html": [
       "<div>\n",
       "<style scoped>\n",
       "    .dataframe tbody tr th:only-of-type {\n",
       "        vertical-align: middle;\n",
       "    }\n",
       "\n",
       "    .dataframe tbody tr th {\n",
       "        vertical-align: top;\n",
       "    }\n",
       "\n",
       "    .dataframe thead th {\n",
       "        text-align: right;\n",
       "    }\n",
       "</style>\n",
       "<table border=\"1\" class=\"dataframe\">\n",
       "  <thead>\n",
       "    <tr style=\"text-align: right;\">\n",
       "      <th></th>\n",
       "      <th>ogArtist</th>\n",
       "      <th>songName</th>\n",
       "      <th>badWord</th>\n",
       "      <th>count</th>\n",
       "      <th>category</th>\n",
       "      <th>year</th>\n",
       "      <th>ogLyric</th>\n",
       "      <th>kbLyric</th>\n",
       "    </tr>\n",
       "  </thead>\n",
       "  <tbody>\n",
       "    <tr>\n",
       "      <th>806</th>\n",
       "      <td>Lady Gaga</td>\n",
       "      <td>born this way</td>\n",
       "      <td>lesbian</td>\n",
       "      <td>1</td>\n",
       "      <td>identity</td>\n",
       "      <td>2011</td>\n",
       "      <td>Lesbian, transgender life</td>\n",
       "      <td>cuts verse</td>\n",
       "    </tr>\n",
       "  </tbody>\n",
       "</table>\n",
       "</div>"
      ],
      "text/plain": [
       "      ogArtist       songName  badWord  count  category  year  \\\n",
       "806  Lady Gaga  born this way  lesbian      1  identity  2011   \n",
       "\n",
       "                       ogLyric     kbLyric  \n",
       "806  Lesbian, transgender life  cuts verse  "
      ]
     },
     "execution_count": 27,
     "metadata": {},
     "output_type": "execute_result"
    }
   ],
   "source": [
    "df[df['badWord']=='lesbian']"
   ]
  },
  {
   "cell_type": "code",
   "execution_count": 12,
   "id": "annual-evans",
   "metadata": {},
   "outputs": [
    {
     "data": {
      "text/html": [
       "<div>\n",
       "<style scoped>\n",
       "    .dataframe tbody tr th:only-of-type {\n",
       "        vertical-align: middle;\n",
       "    }\n",
       "\n",
       "    .dataframe tbody tr th {\n",
       "        vertical-align: top;\n",
       "    }\n",
       "\n",
       "    .dataframe thead th {\n",
       "        text-align: right;\n",
       "    }\n",
       "</style>\n",
       "<table border=\"1\" class=\"dataframe\">\n",
       "  <thead>\n",
       "    <tr style=\"text-align: right;\">\n",
       "      <th></th>\n",
       "      <th>ogArtist</th>\n",
       "      <th>songName</th>\n",
       "      <th>badWord</th>\n",
       "      <th>count</th>\n",
       "      <th>category</th>\n",
       "      <th>year</th>\n",
       "      <th>ogLyric</th>\n",
       "      <th>kbLyric</th>\n",
       "    </tr>\n",
       "  </thead>\n",
       "  <tbody>\n",
       "    <tr>\n",
       "      <th>22</th>\n",
       "      <td>Lady Gaga</td>\n",
       "      <td>alejandro</td>\n",
       "      <td>cigarette</td>\n",
       "      <td>2</td>\n",
       "      <td>alcohol &amp; drugs</td>\n",
       "      <td>2010</td>\n",
       "      <td>Just smoke my cigarette and hush</td>\n",
       "      <td>Just walk away from me and hush</td>\n",
       "    </tr>\n",
       "    <tr>\n",
       "      <th>788</th>\n",
       "      <td>Lady Gaga</td>\n",
       "      <td>alejandro</td>\n",
       "      <td>cigarette</td>\n",
       "      <td>1</td>\n",
       "      <td>alcohol &amp; drugs</td>\n",
       "      <td>2010</td>\n",
       "      <td>Just smoke my cigarette and hush</td>\n",
       "      <td>Just walk away from me and hush</td>\n",
       "    </tr>\n",
       "    <tr>\n",
       "      <th>789</th>\n",
       "      <td>Lady Gaga</td>\n",
       "      <td>alejandro</td>\n",
       "      <td>cigarette</td>\n",
       "      <td>3</td>\n",
       "      <td>alcohol &amp; drugs</td>\n",
       "      <td>2010</td>\n",
       "      <td>Just smoke my cigarette and hush</td>\n",
       "      <td>Just walk away from me and hush</td>\n",
       "    </tr>\n",
       "    <tr>\n",
       "      <th>790</th>\n",
       "      <td>Lady Gaga</td>\n",
       "      <td>alejandro</td>\n",
       "      <td>cigarette</td>\n",
       "      <td>4</td>\n",
       "      <td>alcohol &amp; drugs</td>\n",
       "      <td>2010</td>\n",
       "      <td>Ale-Alejandro, Ale-Alejandro (Just smoke my ci...</td>\n",
       "      <td>Alejandro</td>\n",
       "    </tr>\n",
       "    <tr>\n",
       "      <th>791</th>\n",
       "      <td>Lady Gaga</td>\n",
       "      <td>alejandro</td>\n",
       "      <td>kiss</td>\n",
       "      <td>1</td>\n",
       "      <td>sexual</td>\n",
       "      <td>2010</td>\n",
       "      <td>Don't wanna kiss, don't wanna touch</td>\n",
       "      <td>Don't wanna miss, don't want too much</td>\n",
       "    </tr>\n",
       "    <tr>\n",
       "      <th>792</th>\n",
       "      <td>Lady Gaga</td>\n",
       "      <td>alejandro</td>\n",
       "      <td>kiss</td>\n",
       "      <td>2</td>\n",
       "      <td>sexual</td>\n",
       "      <td>2010</td>\n",
       "      <td>Don't wanna kiss, don't wanna touch</td>\n",
       "      <td>Don't wanna miss, don't want too much</td>\n",
       "    </tr>\n",
       "    <tr>\n",
       "      <th>793</th>\n",
       "      <td>Lady Gaga</td>\n",
       "      <td>alejandro</td>\n",
       "      <td>kiss</td>\n",
       "      <td>3</td>\n",
       "      <td>sexual</td>\n",
       "      <td>2010</td>\n",
       "      <td>Don't wanna kiss</td>\n",
       "      <td>Don't wanna miss</td>\n",
       "    </tr>\n",
       "    <tr>\n",
       "      <th>794</th>\n",
       "      <td>Lady Gaga</td>\n",
       "      <td>alejandro</td>\n",
       "      <td>kiss</td>\n",
       "      <td>4</td>\n",
       "      <td>sexual</td>\n",
       "      <td>2010</td>\n",
       "      <td>Don't wanna kiss, don't wanna touch</td>\n",
       "      <td>Don't wanna miss, don't want too much</td>\n",
       "    </tr>\n",
       "    <tr>\n",
       "      <th>795</th>\n",
       "      <td>Lady Gaga</td>\n",
       "      <td>alejandro</td>\n",
       "      <td>kiss</td>\n",
       "      <td>5</td>\n",
       "      <td>sexual</td>\n",
       "      <td>2010</td>\n",
       "      <td>(Don't wanna kiss, don't wanna touch) Alejandr...</td>\n",
       "      <td>Alejandro</td>\n",
       "    </tr>\n",
       "    <tr>\n",
       "      <th>796</th>\n",
       "      <td>Lady Gaga</td>\n",
       "      <td>alejandro</td>\n",
       "      <td>smoke</td>\n",
       "      <td>1</td>\n",
       "      <td>alcohol &amp; drugs</td>\n",
       "      <td>2010</td>\n",
       "      <td>Just smoke my cigarette and hush</td>\n",
       "      <td>Just walk away from me and hush</td>\n",
       "    </tr>\n",
       "    <tr>\n",
       "      <th>797</th>\n",
       "      <td>Lady Gaga</td>\n",
       "      <td>alejandro</td>\n",
       "      <td>smoke</td>\n",
       "      <td>2</td>\n",
       "      <td>alcohol &amp; drugs</td>\n",
       "      <td>2010</td>\n",
       "      <td>Just smoke my cigarette and hush</td>\n",
       "      <td>Just walk away from me and hush</td>\n",
       "    </tr>\n",
       "    <tr>\n",
       "      <th>798</th>\n",
       "      <td>Lady Gaga</td>\n",
       "      <td>alejandro</td>\n",
       "      <td>smoke</td>\n",
       "      <td>3</td>\n",
       "      <td>alcohol &amp; drugs</td>\n",
       "      <td>2010</td>\n",
       "      <td>Just smoke my cigarette and hush</td>\n",
       "      <td>Just walk away from me and hush</td>\n",
       "    </tr>\n",
       "    <tr>\n",
       "      <th>799</th>\n",
       "      <td>Lady Gaga</td>\n",
       "      <td>alejandro</td>\n",
       "      <td>smoke</td>\n",
       "      <td>4</td>\n",
       "      <td>alcohol &amp; drugs</td>\n",
       "      <td>2010</td>\n",
       "      <td>Ale-Alejandro, Ale-Alejandro (Just smoke my ci...</td>\n",
       "      <td>Ale-ale-jandro</td>\n",
       "    </tr>\n",
       "    <tr>\n",
       "      <th>800</th>\n",
       "      <td>Lady Gaga</td>\n",
       "      <td>alejandro</td>\n",
       "      <td>touch</td>\n",
       "      <td>1</td>\n",
       "      <td>sexual</td>\n",
       "      <td>2010</td>\n",
       "      <td>Don't wanna kiss, don't wanna touch</td>\n",
       "      <td>Don't wanna miss, don't want too much</td>\n",
       "    </tr>\n",
       "    <tr>\n",
       "      <th>801</th>\n",
       "      <td>Lady Gaga</td>\n",
       "      <td>alejandro</td>\n",
       "      <td>touch</td>\n",
       "      <td>2</td>\n",
       "      <td>sexual</td>\n",
       "      <td>2010</td>\n",
       "      <td>Don't wanna kiss, don't wanna touch</td>\n",
       "      <td>Don't wanna miss, don't want too much</td>\n",
       "    </tr>\n",
       "    <tr>\n",
       "      <th>802</th>\n",
       "      <td>Lady Gaga</td>\n",
       "      <td>alejandro</td>\n",
       "      <td>touch</td>\n",
       "      <td>3</td>\n",
       "      <td>sexual</td>\n",
       "      <td>2010</td>\n",
       "      <td>Don't wanna touch</td>\n",
       "      <td>Don't want too much</td>\n",
       "    </tr>\n",
       "    <tr>\n",
       "      <th>803</th>\n",
       "      <td>Lady Gaga</td>\n",
       "      <td>alejandro</td>\n",
       "      <td>touch</td>\n",
       "      <td>4</td>\n",
       "      <td>sexual</td>\n",
       "      <td>2010</td>\n",
       "      <td>Don't wanna kiss, don't wanna touch</td>\n",
       "      <td>Don't wanna miss, don't want too much</td>\n",
       "    </tr>\n",
       "    <tr>\n",
       "      <th>804</th>\n",
       "      <td>Lady Gaga</td>\n",
       "      <td>alejandro</td>\n",
       "      <td>touch</td>\n",
       "      <td>5</td>\n",
       "      <td>sexual</td>\n",
       "      <td>2010</td>\n",
       "      <td>(Don't wanna kiss, don't wanna touch) Alejandr...</td>\n",
       "      <td>Alejandro</td>\n",
       "    </tr>\n",
       "    <tr>\n",
       "      <th>805</th>\n",
       "      <td>Lady Gaga</td>\n",
       "      <td>born this way</td>\n",
       "      <td>gay</td>\n",
       "      <td>1</td>\n",
       "      <td>identity</td>\n",
       "      <td>2011</td>\n",
       "      <td>No matter gay, straight, or bi</td>\n",
       "      <td>cuts verse</td>\n",
       "    </tr>\n",
       "    <tr>\n",
       "      <th>806</th>\n",
       "      <td>Lady Gaga</td>\n",
       "      <td>born this way</td>\n",
       "      <td>lesbian</td>\n",
       "      <td>1</td>\n",
       "      <td>identity</td>\n",
       "      <td>2011</td>\n",
       "      <td>Lesbian, transgender life</td>\n",
       "      <td>cuts verse</td>\n",
       "    </tr>\n",
       "    <tr>\n",
       "      <th>807</th>\n",
       "      <td>Lady Gaga</td>\n",
       "      <td>born this way</td>\n",
       "      <td>transgender</td>\n",
       "      <td>1</td>\n",
       "      <td>identity</td>\n",
       "      <td>2011</td>\n",
       "      <td>Lesbian, transgender life</td>\n",
       "      <td>cuts verse</td>\n",
       "    </tr>\n",
       "    <tr>\n",
       "      <th>808</th>\n",
       "      <td>Lady Gaga</td>\n",
       "      <td>paparazzi</td>\n",
       "      <td>cigarette</td>\n",
       "      <td>1</td>\n",
       "      <td>alcohol &amp; drugs</td>\n",
       "      <td>2010</td>\n",
       "      <td>Eyeliner and cigarettes</td>\n",
       "      <td>Eyeliner and all the rest</td>\n",
       "    </tr>\n",
       "    <tr>\n",
       "      <th>809</th>\n",
       "      <td>Lady Gaga</td>\n",
       "      <td>paparazzi</td>\n",
       "      <td>shit</td>\n",
       "      <td>1</td>\n",
       "      <td>profanity</td>\n",
       "      <td>2010</td>\n",
       "      <td>Snap snap to that shit on the radio</td>\n",
       "      <td>(Stop, stop) That song on the radio</td>\n",
       "    </tr>\n",
       "    <tr>\n",
       "      <th>810</th>\n",
       "      <td>Lady Gaga</td>\n",
       "      <td>telephone</td>\n",
       "      <td>drink</td>\n",
       "      <td>1</td>\n",
       "      <td>alcohol &amp; drugs</td>\n",
       "      <td>2010</td>\n",
       "      <td>And I cannot text you with a drink in my hand, eh</td>\n",
       "      <td>Can not text you when i'm going to dance-eh</td>\n",
       "    </tr>\n",
       "    <tr>\n",
       "      <th>811</th>\n",
       "      <td>Lady Gaga</td>\n",
       "      <td>telephone</td>\n",
       "      <td>sippin</td>\n",
       "      <td>1</td>\n",
       "      <td>alcohol &amp; drugs</td>\n",
       "      <td>2010</td>\n",
       "      <td>Cause I'm out in the club and I'm sipping that...</td>\n",
       "      <td>I'm out in the club, meeting that grub</td>\n",
       "    </tr>\n",
       "    <tr>\n",
       "      <th>812</th>\n",
       "      <td>Lady Gaga</td>\n",
       "      <td>telephone</td>\n",
       "      <td>sippin</td>\n",
       "      <td>2</td>\n",
       "      <td>alcohol &amp; drugs</td>\n",
       "      <td>2010</td>\n",
       "      <td>Cause I'm out in the club and I'm sipping that...</td>\n",
       "      <td>I'm out in the club, meeting that grub</td>\n",
       "    </tr>\n",
       "    <tr>\n",
       "      <th>813</th>\n",
       "      <td>Lady Gaga</td>\n",
       "      <td>telephone</td>\n",
       "      <td>sippin</td>\n",
       "      <td>3</td>\n",
       "      <td>alcohol &amp; drugs</td>\n",
       "      <td>2010</td>\n",
       "      <td>Cause I'm out in the club and I'm sipping that...</td>\n",
       "      <td>I'm out in the club, meeting that grub</td>\n",
       "    </tr>\n",
       "    <tr>\n",
       "      <th>814</th>\n",
       "      <td>Lady Gaga</td>\n",
       "      <td>telephone</td>\n",
       "      <td>sippin</td>\n",
       "      <td>4</td>\n",
       "      <td>alcohol &amp; drugs</td>\n",
       "      <td>2010</td>\n",
       "      <td>Cause I'm out in the club and I'm sipping that...</td>\n",
       "      <td>I'm out in the club, meeting that grub</td>\n",
       "    </tr>\n",
       "    <tr>\n",
       "      <th>815</th>\n",
       "      <td>Lady Gaga</td>\n",
       "      <td>telephone</td>\n",
       "      <td>sippin</td>\n",
       "      <td>5</td>\n",
       "      <td>alcohol &amp; drugs</td>\n",
       "      <td>2010</td>\n",
       "      <td>Cause I'm out in the club, and I'm sipping tha...</td>\n",
       "      <td>I'm out in the club, meeting that grub</td>\n",
       "    </tr>\n",
       "    <tr>\n",
       "      <th>816</th>\n",
       "      <td>Lady Gaga</td>\n",
       "      <td>telephone</td>\n",
       "      <td>sippin</td>\n",
       "      <td>6</td>\n",
       "      <td>alcohol &amp; drugs</td>\n",
       "      <td>2010</td>\n",
       "      <td>Cause I'm out in the club, and I'm sipping tha...</td>\n",
       "      <td>I'm out in the club, meeting that grub</td>\n",
       "    </tr>\n",
       "  </tbody>\n",
       "</table>\n",
       "</div>"
      ],
      "text/plain": [
       "      ogArtist       songName      badWord  count         category  year  \\\n",
       "22   Lady Gaga      alejandro    cigarette      2  alcohol & drugs  2010   \n",
       "788  Lady Gaga      alejandro    cigarette      1  alcohol & drugs  2010   \n",
       "789  Lady Gaga      alejandro    cigarette      3  alcohol & drugs  2010   \n",
       "790  Lady Gaga      alejandro    cigarette      4  alcohol & drugs  2010   \n",
       "791  Lady Gaga      alejandro         kiss      1           sexual  2010   \n",
       "792  Lady Gaga      alejandro         kiss      2           sexual  2010   \n",
       "793  Lady Gaga      alejandro         kiss      3           sexual  2010   \n",
       "794  Lady Gaga      alejandro         kiss      4           sexual  2010   \n",
       "795  Lady Gaga      alejandro         kiss      5           sexual  2010   \n",
       "796  Lady Gaga      alejandro        smoke      1  alcohol & drugs  2010   \n",
       "797  Lady Gaga      alejandro        smoke      2  alcohol & drugs  2010   \n",
       "798  Lady Gaga      alejandro        smoke      3  alcohol & drugs  2010   \n",
       "799  Lady Gaga      alejandro        smoke      4  alcohol & drugs  2010   \n",
       "800  Lady Gaga      alejandro        touch      1           sexual  2010   \n",
       "801  Lady Gaga      alejandro        touch      2           sexual  2010   \n",
       "802  Lady Gaga      alejandro        touch      3           sexual  2010   \n",
       "803  Lady Gaga      alejandro        touch      4           sexual  2010   \n",
       "804  Lady Gaga      alejandro        touch      5           sexual  2010   \n",
       "805  Lady Gaga  born this way          gay      1         identity  2011   \n",
       "806  Lady Gaga  born this way      lesbian      1         identity  2011   \n",
       "807  Lady Gaga  born this way  transgender      1         identity  2011   \n",
       "808  Lady Gaga      paparazzi    cigarette      1  alcohol & drugs  2010   \n",
       "809  Lady Gaga      paparazzi         shit      1        profanity  2010   \n",
       "810  Lady Gaga      telephone        drink      1  alcohol & drugs  2010   \n",
       "811  Lady Gaga      telephone       sippin      1  alcohol & drugs  2010   \n",
       "812  Lady Gaga      telephone       sippin      2  alcohol & drugs  2010   \n",
       "813  Lady Gaga      telephone       sippin      3  alcohol & drugs  2010   \n",
       "814  Lady Gaga      telephone       sippin      4  alcohol & drugs  2010   \n",
       "815  Lady Gaga      telephone       sippin      5  alcohol & drugs  2010   \n",
       "816  Lady Gaga      telephone       sippin      6  alcohol & drugs  2010   \n",
       "\n",
       "                                               ogLyric  \\\n",
       "22                    Just smoke my cigarette and hush   \n",
       "788                   Just smoke my cigarette and hush   \n",
       "789                   Just smoke my cigarette and hush   \n",
       "790  Ale-Alejandro, Ale-Alejandro (Just smoke my ci...   \n",
       "791                Don't wanna kiss, don't wanna touch   \n",
       "792                Don't wanna kiss, don't wanna touch   \n",
       "793                                   Don't wanna kiss   \n",
       "794                Don't wanna kiss, don't wanna touch   \n",
       "795  (Don't wanna kiss, don't wanna touch) Alejandr...   \n",
       "796                   Just smoke my cigarette and hush   \n",
       "797                   Just smoke my cigarette and hush   \n",
       "798                   Just smoke my cigarette and hush   \n",
       "799  Ale-Alejandro, Ale-Alejandro (Just smoke my ci...   \n",
       "800                Don't wanna kiss, don't wanna touch   \n",
       "801                Don't wanna kiss, don't wanna touch   \n",
       "802                                  Don't wanna touch   \n",
       "803                Don't wanna kiss, don't wanna touch   \n",
       "804  (Don't wanna kiss, don't wanna touch) Alejandr...   \n",
       "805                     No matter gay, straight, or bi   \n",
       "806                          Lesbian, transgender life   \n",
       "807                          Lesbian, transgender life   \n",
       "808                            Eyeliner and cigarettes   \n",
       "809                Snap snap to that shit on the radio   \n",
       "810  And I cannot text you with a drink in my hand, eh   \n",
       "811  Cause I'm out in the club and I'm sipping that...   \n",
       "812  Cause I'm out in the club and I'm sipping that...   \n",
       "813  Cause I'm out in the club and I'm sipping that...   \n",
       "814  Cause I'm out in the club and I'm sipping that...   \n",
       "815  Cause I'm out in the club, and I'm sipping tha...   \n",
       "816  Cause I'm out in the club, and I'm sipping tha...   \n",
       "\n",
       "                                         kbLyric  \n",
       "22               Just walk away from me and hush  \n",
       "788              Just walk away from me and hush  \n",
       "789              Just walk away from me and hush  \n",
       "790                                    Alejandro  \n",
       "791        Don't wanna miss, don't want too much  \n",
       "792        Don't wanna miss, don't want too much  \n",
       "793                             Don't wanna miss  \n",
       "794        Don't wanna miss, don't want too much  \n",
       "795                                    Alejandro  \n",
       "796              Just walk away from me and hush  \n",
       "797              Just walk away from me and hush  \n",
       "798              Just walk away from me and hush  \n",
       "799                               Ale-ale-jandro  \n",
       "800        Don't wanna miss, don't want too much  \n",
       "801        Don't wanna miss, don't want too much  \n",
       "802                          Don't want too much  \n",
       "803        Don't wanna miss, don't want too much  \n",
       "804                                    Alejandro  \n",
       "805                                   cuts verse  \n",
       "806                                   cuts verse  \n",
       "807                                   cuts verse  \n",
       "808                    Eyeliner and all the rest  \n",
       "809          (Stop, stop) That song on the radio  \n",
       "810  Can not text you when i'm going to dance-eh  \n",
       "811       I'm out in the club, meeting that grub  \n",
       "812       I'm out in the club, meeting that grub  \n",
       "813       I'm out in the club, meeting that grub  \n",
       "814       I'm out in the club, meeting that grub  \n",
       "815       I'm out in the club, meeting that grub  \n",
       "816       I'm out in the club, meeting that grub  "
      ]
     },
     "execution_count": 12,
     "metadata": {},
     "output_type": "execute_result"
    }
   ],
   "source": [
    "df[df['ogArtist'] == 'Lady Gaga']"
   ]
  },
  {
   "cell_type": "code",
   "execution_count": 28,
   "id": "silent-cheat",
   "metadata": {},
   "outputs": [
    {
     "data": {
      "text/plain": [
       "David Guetta                17\n",
       "Justin Timberlake           11\n",
       "Lizzo                        7\n",
       "Baha Men                     6\n",
       "Ed Sheeran                   6\n",
       "Macklemore & Ryan Lewis      5\n",
       "Kanye West                   4\n",
       "Jennifer Lopez               4\n",
       "Lady Gaga                    3\n",
       "Jet (band)                   3\n",
       "Usher                        2\n",
       "Bruno Mars                   2\n",
       "Akon                         2\n",
       "Tinie Tempah                 2\n",
       "Beyoncé                      2\n",
       "Ashlee Simpson               1\n",
       "Taylor Swift                 1\n",
       "Cobra Starship               1\n",
       "Jessie J                     1\n",
       "Rihanna                      1\n",
       "Flo Rida                     1\n",
       "The Black Eyed Peas          1\n",
       "Lukas Graham                 1\n",
       "Florida Georgia Line         1\n",
       "Katy Perry                   1\n",
       "Andy Grammer                 1\n",
       "Meghan Trainor               1\n",
       "Maroon 5                     1\n",
       "Kelly Clarkson               1\n",
       "Nelly                        1\n",
       "Foster the People            1\n",
       "Len                          1\n",
       "Elle King                    1\n",
       "One Direction                1\n",
       "The Script                   1\n",
       "J Balvin & Willy William     1\n",
       "Name: ogArtist, dtype: int64"
      ]
     },
     "execution_count": 28,
     "metadata": {},
     "output_type": "execute_result"
    }
   ],
   "source": [
    "df[df['category']=='identity']['ogArtist'].value_counts()"
   ]
  },
  {
   "cell_type": "code",
   "execution_count": null,
   "id": "derived-copper",
   "metadata": {},
   "outputs": [],
   "source": []
  }
 ],
 "metadata": {
  "kernelspec": {
   "display_name": "Python 3",
   "language": "python",
   "name": "python3"
  },
  "language_info": {
   "codemirror_mode": {
    "name": "ipython",
    "version": 3
   },
   "file_extension": ".py",
   "mimetype": "text/x-python",
   "name": "python",
   "nbconvert_exporter": "python",
   "pygments_lexer": "ipython3",
   "version": "3.8.5"
  }
 },
 "nbformat": 4,
 "nbformat_minor": 5
}
