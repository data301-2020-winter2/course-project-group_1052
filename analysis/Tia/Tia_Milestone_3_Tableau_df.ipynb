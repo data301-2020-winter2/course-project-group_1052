{
 "cells": [
  {
   "cell_type": "code",
   "execution_count": null,
   "id": "victorian-counter",
   "metadata": {},
   "outputs": [],
   "source": [
    "import os"
   ]
  },
  {
   "cell_type": "code",
   "execution_count": null,
   "id": "contemporary-rachel",
   "metadata": {},
   "outputs": [],
   "source": [
    "os.chdir('../../')"
   ]
  },
  {
   "cell_type": "code",
   "execution_count": null,
   "id": "covered-blackjack",
   "metadata": {},
   "outputs": [],
   "source": [
    "os.getcwd()"
   ]
  },
  {
   "cell_type": "code",
   "execution_count": null,
   "id": "described-brisbane",
   "metadata": {},
   "outputs": [],
   "source": [
    "import pandas as pd\n",
    "import numpy as np"
   ]
  },
  {
   "cell_type": "code",
   "execution_count": null,
   "id": "moral-debut",
   "metadata": {},
   "outputs": [],
   "source": [
    "from analysis.scripts import project_functions as pf"
   ]
  },
  {
   "cell_type": "code",
   "execution_count": null,
   "id": "informational-savannah",
   "metadata": {},
   "outputs": [],
   "source": [
    "df = pf.load_df('data/raw/KB_censored-lyrics.csv')\n",
    "df.head()"
   ]
  },
  {
   "cell_type": "code",
   "execution_count": null,
   "id": "nuclear-opportunity",
   "metadata": {},
   "outputs": [],
   "source": [
    "df.to_csv('data/processed/KB_censored-lyrics_cleaned.csv',index=False)"
   ]
  },
  {
   "cell_type": "code",
   "execution_count": null,
   "id": "apart-honey",
   "metadata": {},
   "outputs": [],
   "source": [
    "df2 = pf.badWord_df(df,df['badWord'].value_counts().iloc[:5].index.tolist())"
   ]
  },
  {
   "cell_type": "code",
   "execution_count": null,
   "id": "mental-forth",
   "metadata": {},
   "outputs": [],
   "source": [
    "df2.to_csv('data/processed/KB_censored-lyrics_badWord_freq.csv',index=False)"
   ]
  },
  {
   "cell_type": "code",
   "execution_count": null,
   "id": "respected-shopping",
   "metadata": {},
   "outputs": [],
   "source": [
    "def badWord_df(df,badWords):\n",
    "    df2 = pd.DataFrame({'year':df['year'].unique().tolist()}).sort_values(by='year').reset_index(drop=True)\n",
    "    for i in badWords:\n",
    "        df3 = df[df['ogArtist']==i]['year'].value_counts()\n",
    "        for j in range(2001,2020):\n",
    "            if j not in df3.index:\n",
    "                df3[j]=0\n",
    "        df3 = df3.sort_index()\n",
    "        df2[i]=df3.values\n",
    "    return df2"
   ]
  },
  {
   "cell_type": "code",
   "execution_count": null,
   "id": "bulgarian-lesson",
   "metadata": {},
   "outputs": [],
   "source": [
    "def ogArtist_df(df,ogArtists):\n",
    "    df2 = pd.DataFrame({'year':df['year'].unique().tolist()}).sort_values(by='year').reset_index(drop=True)\n",
    "    for i in ogArtists:\n",
    "        df3 = df[df['ogArtist']==i]['year'].value_counts()\n",
    "        for j in range(2001,2020):\n",
    "            if j not in df3.index:\n",
    "                df3[j]=0\n",
    "        df3 = df3.sort_index()\n",
    "        df2[i]=df3.values\n",
    "    return df2"
   ]
  },
  {
   "cell_type": "code",
   "execution_count": 40,
   "id": "opposed-lyric",
   "metadata": {},
   "outputs": [
    {
     "data": {
      "text/html": [
       "<div>\n",
       "<style scoped>\n",
       "    .dataframe tbody tr th:only-of-type {\n",
       "        vertical-align: middle;\n",
       "    }\n",
       "\n",
       "    .dataframe tbody tr th {\n",
       "        vertical-align: top;\n",
       "    }\n",
       "\n",
       "    .dataframe thead th {\n",
       "        text-align: right;\n",
       "    }\n",
       "</style>\n",
       "<table border=\"1\" class=\"dataframe\">\n",
       "  <thead>\n",
       "    <tr style=\"text-align: right;\">\n",
       "      <th></th>\n",
       "      <th>year</th>\n",
       "      <th>ogArtist</th>\n",
       "      <th>value</th>\n",
       "    </tr>\n",
       "  </thead>\n",
       "  <tbody>\n",
       "    <tr>\n",
       "      <th>0</th>\n",
       "      <td>2001</td>\n",
       "      <td>LFO</td>\n",
       "      <td>1</td>\n",
       "    </tr>\n",
       "    <tr>\n",
       "      <th>1</th>\n",
       "      <td>2002</td>\n",
       "      <td>Aaliyah</td>\n",
       "      <td>4</td>\n",
       "    </tr>\n",
       "    <tr>\n",
       "      <th>2</th>\n",
       "      <td>2003</td>\n",
       "      <td>Baha Men</td>\n",
       "      <td>3</td>\n",
       "    </tr>\n",
       "    <tr>\n",
       "      <th>3</th>\n",
       "      <td>2004</td>\n",
       "      <td>Jet (band)</td>\n",
       "      <td>3</td>\n",
       "    </tr>\n",
       "    <tr>\n",
       "      <th>4</th>\n",
       "      <td>2005</td>\n",
       "      <td>The Black Eyed Peas</td>\n",
       "      <td>2</td>\n",
       "    </tr>\n",
       "    <tr>\n",
       "      <th>5</th>\n",
       "      <td>2006</td>\n",
       "      <td>The Black Eyed Peas</td>\n",
       "      <td>11</td>\n",
       "    </tr>\n",
       "    <tr>\n",
       "      <th>6</th>\n",
       "      <td>2007</td>\n",
       "      <td>Fergie</td>\n",
       "      <td>16</td>\n",
       "    </tr>\n",
       "    <tr>\n",
       "      <th>7</th>\n",
       "      <td>2008</td>\n",
       "      <td>Sean Kingston</td>\n",
       "      <td>15</td>\n",
       "    </tr>\n",
       "    <tr>\n",
       "      <th>8</th>\n",
       "      <td>2009</td>\n",
       "      <td>The Black Eyed Peas</td>\n",
       "      <td>12</td>\n",
       "    </tr>\n",
       "    <tr>\n",
       "      <th>9</th>\n",
       "      <td>2010</td>\n",
       "      <td>Lady Gaga</td>\n",
       "      <td>27</td>\n",
       "    </tr>\n",
       "    <tr>\n",
       "      <th>10</th>\n",
       "      <td>2011</td>\n",
       "      <td>Tinie Tempah</td>\n",
       "      <td>7</td>\n",
       "    </tr>\n",
       "    <tr>\n",
       "      <th>11</th>\n",
       "      <td>2012</td>\n",
       "      <td>Maroon 5</td>\n",
       "      <td>24</td>\n",
       "    </tr>\n",
       "    <tr>\n",
       "      <th>12</th>\n",
       "      <td>2013</td>\n",
       "      <td>Macklemore &amp; Ryan Lewis</td>\n",
       "      <td>30</td>\n",
       "    </tr>\n",
       "    <tr>\n",
       "      <th>13</th>\n",
       "      <td>2014</td>\n",
       "      <td>Florida Georgia Line</td>\n",
       "      <td>12</td>\n",
       "    </tr>\n",
       "    <tr>\n",
       "      <th>14</th>\n",
       "      <td>2015</td>\n",
       "      <td>Major Lazer</td>\n",
       "      <td>36</td>\n",
       "    </tr>\n",
       "    <tr>\n",
       "      <th>15</th>\n",
       "      <td>2016</td>\n",
       "      <td>Macklemore &amp; Ryan Lewis</td>\n",
       "      <td>22</td>\n",
       "    </tr>\n",
       "    <tr>\n",
       "      <th>16</th>\n",
       "      <td>2017</td>\n",
       "      <td>DJ Khaled</td>\n",
       "      <td>18</td>\n",
       "    </tr>\n",
       "    <tr>\n",
       "      <th>17</th>\n",
       "      <td>2018</td>\n",
       "      <td>Drake</td>\n",
       "      <td>27</td>\n",
       "    </tr>\n",
       "    <tr>\n",
       "      <th>18</th>\n",
       "      <td>2019</td>\n",
       "      <td>Ed Sheeran</td>\n",
       "      <td>27</td>\n",
       "    </tr>\n",
       "  </tbody>\n",
       "</table>\n",
       "</div>"
      ],
      "text/plain": [
       "    year                 ogArtist  value\n",
       "0   2001                      LFO      1\n",
       "1   2002                  Aaliyah      4\n",
       "2   2003                 Baha Men      3\n",
       "3   2004               Jet (band)      3\n",
       "4   2005      The Black Eyed Peas      2\n",
       "5   2006      The Black Eyed Peas     11\n",
       "6   2007                   Fergie     16\n",
       "7   2008            Sean Kingston     15\n",
       "8   2009      The Black Eyed Peas     12\n",
       "9   2010                Lady Gaga     27\n",
       "10  2011             Tinie Tempah      7\n",
       "11  2012                 Maroon 5     24\n",
       "12  2013  Macklemore & Ryan Lewis     30\n",
       "13  2014     Florida Georgia Line     12\n",
       "14  2015              Major Lazer     36\n",
       "15  2016  Macklemore & Ryan Lewis     22\n",
       "16  2017                DJ Khaled     18\n",
       "17  2018                    Drake     27\n",
       "18  2019               Ed Sheeran     27"
      ]
     },
     "execution_count": 40,
     "metadata": {},
     "output_type": "execute_result"
    }
   ],
   "source": [
    "#Code taken from milestone task 5\n",
    "df_YearGroup = df.groupby(by='year')\n",
    "list1 = list()\n",
    "for i in range(2001,2020):\n",
    "    list1.append([i, df_YearGroup.get_group(i)['ogArtist'].value_counts().index[0], df_YearGroup.get_group(i)['ogArtist'].value_counts()[0]])\n",
    "df_badWordbyArtist = pd.DataFrame(list1).rename(columns={0:'year',1:'ogArtist',2:'value'})\n",
    "df_badWordbyArtist"
   ]
  },
  {
   "cell_type": "code",
   "execution_count": 41,
   "id": "heard-deputy",
   "metadata": {},
   "outputs": [],
   "source": [
    "df_badWordbyArtist.to_csv('data/processed/KB_censored-lyrics_artist_freq.csv',index=False)"
   ]
  }
 ],
 "metadata": {
  "kernelspec": {
   "display_name": "Python 3",
   "language": "python",
   "name": "python3"
  },
  "language_info": {
   "codemirror_mode": {
    "name": "ipython",
    "version": 3
   },
   "file_extension": ".py",
   "mimetype": "text/x-python",
   "name": "python",
   "nbconvert_exporter": "python",
   "pygments_lexer": "ipython3",
   "version": "3.8.5"
  }
 },
 "nbformat": 4,
 "nbformat_minor": 5
}
