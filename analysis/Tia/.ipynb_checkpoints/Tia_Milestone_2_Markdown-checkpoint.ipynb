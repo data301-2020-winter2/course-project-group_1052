{
 "cells": [
  {
   "cell_type": "markdown",
   "id": "understood-exclusion",
   "metadata": {},
   "source": [
    "# Markdown usage as illustrated by Tia Der"
   ]
  },
  {
   "cell_type": "markdown",
   "id": "impossible-loading",
   "metadata": {},
   "source": [
    "## Who is Tia? Let's introduce her"
   ]
  },
  {
   "cell_type": "markdown",
   "id": "english-matthew",
   "metadata": {},
   "source": [
    "Tia is a team member of group_1052. She is a second year student majoring in statistics."
   ]
  },
  {
   "cell_type": "markdown",
   "id": "respected-problem",
   "metadata": {},
   "source": [
    "Tia has programmed (at least once) in the following languages:"
   ]
  },
  {
   "cell_type": "markdown",
   "id": "spare-republican",
   "metadata": {},
   "source": [
    "1. Java"
   ]
  },
  {
   "cell_type": "markdown",
   "id": "revised-luxembourg",
   "metadata": {},
   "source": [
    "2. R Studio"
   ]
  },
  {
   "cell_type": "markdown",
   "id": "attractive-timeline",
   "metadata": {},
   "source": [
    "3. Python"
   ]
  },
  {
   "cell_type": "markdown",
   "id": "legitimate-denial",
   "metadata": {},
   "source": [
    "## Here is an example of Tia using formats in Markdown"
   ]
  },
  {
   "cell_type": "markdown",
   "id": "outer-auction",
   "metadata": {},
   "source": [
    " This is a paragraph. Here, the user is able to express or explain certain things that may pertain to the heading above. The user can emphasize themselves in various ways. They can *italicize* and **bold** text to help make their point."
   ]
  },
  {
   "cell_type": "markdown",
   "id": "expired-thread",
   "metadata": {},
   "source": [
    "### More to talk about? Here is a subheader"
   ]
  },
  {
   "cell_type": "markdown",
   "id": "intimate-shareware",
   "metadata": {},
   "source": [
    "It is observed that you can create many different headers of varying size. This is an **h3 header**, whilst the two above are **h2 headers**. The very first one is an **h1 header**."
   ]
  },
  {
   "cell_type": "markdown",
   "id": "neutral-costume",
   "metadata": {},
   "source": [
    "## Linking stuff"
   ]
  },
  {
   "cell_type": "markdown",
   "id": "weekly-helen",
   "metadata": {},
   "source": [
    "You can link things in Markdown as well! [Here is a link to a cat image](https://cdn.kinsights.com/cache/ec/29/ec29de5c006c25c6ef325144b5159803.jpg)"
   ]
  }
 ],
 "metadata": {
  "kernelspec": {
   "display_name": "Python 3",
   "language": "python",
   "name": "python3"
  },
  "language_info": {
   "codemirror_mode": {
    "name": "ipython",
    "version": 3
   },
   "file_extension": ".py",
   "mimetype": "text/x-python",
   "name": "python",
   "nbconvert_exporter": "python",
   "pygments_lexer": "ipython3",
   "version": "3.8.5"
  }
 },
 "nbformat": 4,
 "nbformat_minor": 5
}
