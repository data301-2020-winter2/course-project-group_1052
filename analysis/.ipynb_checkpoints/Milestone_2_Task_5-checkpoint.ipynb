{
 "cells": [
  {
   "cell_type": "markdown",
   "id": "sized-saudi",
   "metadata": {},
   "source": [
    "# Task 5 Answering Research Questions"
   ]
  },
  {
   "cell_type": "markdown",
   "id": "nominated-intersection",
   "metadata": {},
   "source": [
    "## Research Questions"
   ]
  },
  {
   "cell_type": "markdown",
   "id": "meaning-surrey",
   "metadata": {},
   "source": [
    "- How has the frequency of swear words in pop songs changed over the years?\n",
    "   - Related research question: which category does the number one swear word belong to?"
   ]
  },
  {
   "cell_type": "markdown",
   "id": "approximate-hungary",
   "metadata": {},
   "source": [
    "It should be noted that due to the nature of the dataset, there is a certain bias towards what pool our data is pooled from.\n",
    "Kidz Bop naturally doesn't cover all songs in existence, instead opting towards covering songs that are deemed mainstream or most popular. Therefore our research question is a bit more specific, in that we wonder if the frequency of swear words in pop songs chosen by KidzBop, i.e deemed most popular in media as seen by KidzBop, has changed over the years?"
   ]
  },
  {
   "cell_type": "markdown",
   "id": "extreme-things",
   "metadata": {},
   "source": [
    "- Which artist swears the most? What artist swears the most by year?"
   ]
  },
  {
   "cell_type": "code",
   "execution_count": 1,
   "id": "disabled-african",
   "metadata": {},
   "outputs": [],
   "source": [
    "import os"
   ]
  },
  {
   "cell_type": "code",
   "execution_count": 2,
   "id": "hidden-death",
   "metadata": {},
   "outputs": [
    {
     "data": {
      "text/plain": [
       "'C:\\\\Users\\\\dmsda\\\\Desktop\\\\Office\\\\School\\\\2020-2021\\\\Cosc\\\\301\\\\course-project-group_1052'"
      ]
     },
     "execution_count": 2,
     "metadata": {},
     "output_type": "execute_result"
    }
   ],
   "source": [
    "os.chdir('../')\n",
    "os.getcwd()"
   ]
  },
  {
   "cell_type": "code",
   "execution_count": 3,
   "id": "isolated-murder",
   "metadata": {},
   "outputs": [],
   "source": [
    "from analysis.scripts import project_functions as pf"
   ]
  },
  {
   "cell_type": "code",
   "execution_count": 4,
   "id": "periodic-encyclopedia",
   "metadata": {},
   "outputs": [],
   "source": [
    "import pandas as pd\n",
    "import numpy as np"
   ]
  },
  {
   "cell_type": "code",
   "execution_count": 5,
   "id": "essential-mills",
   "metadata": {},
   "outputs": [],
   "source": [
    "import seaborn as sns\n",
    "import matplotlib.pyplot as plt"
   ]
  },
  {
   "cell_type": "code",
   "execution_count": 6,
   "id": "inner-cuisine",
   "metadata": {},
   "outputs": [
    {
     "data": {
      "text/html": [
       "<div>\n",
       "<style scoped>\n",
       "    .dataframe tbody tr th:only-of-type {\n",
       "        vertical-align: middle;\n",
       "    }\n",
       "\n",
       "    .dataframe tbody tr th {\n",
       "        vertical-align: top;\n",
       "    }\n",
       "\n",
       "    .dataframe thead th {\n",
       "        text-align: right;\n",
       "    }\n",
       "</style>\n",
       "<table border=\"1\" class=\"dataframe\">\n",
       "  <thead>\n",
       "    <tr style=\"text-align: right;\">\n",
       "      <th></th>\n",
       "      <th>ogArtist</th>\n",
       "      <th>songName</th>\n",
       "      <th>badWord</th>\n",
       "      <th>count</th>\n",
       "      <th>category</th>\n",
       "      <th>year</th>\n",
       "      <th>ogLyric</th>\n",
       "      <th>kbLyric</th>\n",
       "    </tr>\n",
       "  </thead>\n",
       "  <tbody>\n",
       "    <tr>\n",
       "      <th>0</th>\n",
       "      <td>Ariana Grande</td>\n",
       "      <td>7 rings</td>\n",
       "      <td>bitch</td>\n",
       "      <td>2</td>\n",
       "      <td>profanity</td>\n",
       "      <td>2019</td>\n",
       "      <td>Bought matching diamonds for six of my bitches</td>\n",
       "      <td>Bought matching diamonds so they know what thi...</td>\n",
       "    </tr>\n",
       "    <tr>\n",
       "      <th>1</th>\n",
       "      <td>Britney Spears</td>\n",
       "      <td>till the world ends</td>\n",
       "      <td>blow</td>\n",
       "      <td>1</td>\n",
       "      <td>alcohol &amp; drugs</td>\n",
       "      <td>2011</td>\n",
       "      <td>Baby, let me blow your mind tonight</td>\n",
       "      <td>Baby, come on wave your hands tonight</td>\n",
       "    </tr>\n",
       "    <tr>\n",
       "      <th>2</th>\n",
       "      <td>Britney Spears</td>\n",
       "      <td>till the world ends</td>\n",
       "      <td>blow</td>\n",
       "      <td>2</td>\n",
       "      <td>alcohol &amp; drugs</td>\n",
       "      <td>2011</td>\n",
       "      <td>Baby, let me blow your mind tonight</td>\n",
       "      <td>Baby, come on wave your hands tonight</td>\n",
       "    </tr>\n",
       "    <tr>\n",
       "      <th>3</th>\n",
       "      <td>Britney Spears</td>\n",
       "      <td>till the world ends</td>\n",
       "      <td>touch</td>\n",
       "      <td>1</td>\n",
       "      <td>sexual</td>\n",
       "      <td>2011</td>\n",
       "      <td>Get you off with the touch, dancing in the dark</td>\n",
       "      <td>Set it off with a track dancing in the dark</td>\n",
       "    </tr>\n",
       "    <tr>\n",
       "      <th>4</th>\n",
       "      <td>Elle King</td>\n",
       "      <td>ex's and oh's</td>\n",
       "      <td>high</td>\n",
       "      <td>1</td>\n",
       "      <td>alcohol &amp; drugs</td>\n",
       "      <td>2016</td>\n",
       "      <td>I get high, and I love to get low</td>\n",
       "      <td>I get by, and I love to lay low</td>\n",
       "    </tr>\n",
       "  </tbody>\n",
       "</table>\n",
       "</div>"
      ],
      "text/plain": [
       "         ogArtist             songName badWord  count         category  year  \\\n",
       "0   Ariana Grande              7 rings   bitch      2        profanity  2019   \n",
       "1  Britney Spears  till the world ends    blow      1  alcohol & drugs  2011   \n",
       "2  Britney Spears  till the world ends    blow      2  alcohol & drugs  2011   \n",
       "3  Britney Spears  till the world ends   touch      1           sexual  2011   \n",
       "4       Elle King        ex's and oh's    high      1  alcohol & drugs  2016   \n",
       "\n",
       "                                           ogLyric  \\\n",
       "0   Bought matching diamonds for six of my bitches   \n",
       "1              Baby, let me blow your mind tonight   \n",
       "2              Baby, let me blow your mind tonight   \n",
       "3  Get you off with the touch, dancing in the dark   \n",
       "4                I get high, and I love to get low   \n",
       "\n",
       "                                             kbLyric  \n",
       "0  Bought matching diamonds so they know what thi...  \n",
       "1              Baby, come on wave your hands tonight  \n",
       "2              Baby, come on wave your hands tonight  \n",
       "3        Set it off with a track dancing in the dark  \n",
       "4                    I get by, and I love to lay low  "
      ]
     },
     "execution_count": 6,
     "metadata": {},
     "output_type": "execute_result"
    }
   ],
   "source": [
    "df = pf.load_df('data/raw/KB_censored-lyrics.csv')\n",
    "df.head()"
   ]
  },
  {
   "cell_type": "markdown",
   "id": "significant-washington",
   "metadata": {},
   "source": [
    "## Filtering dataframe to answer Research Question 1"
   ]
  },
  {
   "cell_type": "markdown",
   "id": "southwest-array",
   "metadata": {},
   "source": [
    "In general we see a clear upward trend of swear word usage as the years go on"
   ]
  },
  {
   "cell_type": "code",
   "execution_count": 7,
   "id": "injured-desert",
   "metadata": {},
   "outputs": [
    {
     "data": {
      "text/plain": [
       "2001      3\n",
       "2002     19\n",
       "2003      8\n",
       "2004      7\n",
       "2005      5\n",
       "2006     28\n",
       "2007     64\n",
       "2008     33\n",
       "2009     67\n",
       "2010     89\n",
       "2011     35\n",
       "2012     80\n",
       "2013     73\n",
       "2014     76\n",
       "2015    171\n",
       "2016    109\n",
       "2017    170\n",
       "2018    127\n",
       "2019    189\n",
       "Name: year, dtype: int64"
      ]
     },
     "execution_count": 7,
     "metadata": {},
     "output_type": "execute_result"
    }
   ],
   "source": [
    "df['year'].value_counts().sort_index()"
   ]
  },
  {
   "cell_type": "markdown",
   "id": "terminal-dayton",
   "metadata": {},
   "source": [
    "Here we can see that overall, the top 5 swear words are 'fuck', 'shit', 'damn', 'man' and 'kiss'."
   ]
  },
  {
   "cell_type": "code",
   "execution_count": 8,
   "id": "celtic-semiconductor",
   "metadata": {},
   "outputs": [
    {
     "data": {
      "text/plain": [
       "fuck         89\n",
       "shit         77\n",
       "damn         68\n",
       "man          57\n",
       "kiss         53\n",
       "             ..\n",
       "marijuana     1\n",
       "priest        1\n",
       "weapon        1\n",
       "coma          1\n",
       "fetish        1\n",
       "Name: badWord, Length: 167, dtype: int64"
      ]
     },
     "execution_count": 8,
     "metadata": {},
     "output_type": "execute_result"
    }
   ],
   "source": [
    "df['badWord'].value_counts()"
   ]
  },
  {
   "cell_type": "markdown",
   "id": "curious-sunset",
   "metadata": {},
   "source": [
    "The swear words appear to mostly be categorized under profanity, identity or sexual"
   ]
  },
  {
   "cell_type": "code",
   "execution_count": 13,
   "id": "ethical-lawrence",
   "metadata": {},
   "outputs": [
    {
     "data": {
      "text/plain": [
       "profanity    234\n",
       "identity      57\n",
       "sexual        53\n",
       "Name: category, dtype: int64"
      ]
     },
     "execution_count": 13,
     "metadata": {},
     "output_type": "execute_result"
    }
   ],
   "source": [
    "df[(df['badWord']=='fuck') | (df['badWord']=='shit') | (df['badWord']=='damn') | (df['badWord']=='man') | (df['badWord']=='kiss')]['category'].value_counts()"
   ]
  },
  {
   "cell_type": "markdown",
   "id": "anticipated-plasma",
   "metadata": {},
   "source": [
    "### Formally plotting this in a histogram"
   ]
  },
  {
   "cell_type": "code",
   "execution_count": 14,
   "id": "great-chain",
   "metadata": {},
   "outputs": [
    {
     "data": {
      "image/png": "[encoded data removed]",
      "text/plain": [
       "<Figure size 432x288 with 1 Axes>"
      ]
     },
     "metadata": {
      "needs_background": "light"
     },
     "output_type": "display_data"
    }
   ],
   "source": [
    "sns.countplot(data=df,\n",
    "              x=df['year'],\n",
    "              order = df['year'].sort_values().drop_duplicates()\n",
    "             )\n",
    "plt.title('Frequency of swear words over years');\n",
    "plt.ylabel('Frequency (# of words)')\n",
    "plt.xlabel('Year')\n",
    "plt.xticks(rotation=-90);"
   ]
  },
  {
   "cell_type": "code",
   "execution_count": 15,
   "id": "tender-blanket",
   "metadata": {},
   "outputs": [
    {
     "data": {
      "text/plain": [
       "Text(0.5, 0, 'Frequency (# of words)')"
      ]
     },
     "execution_count": 15,
     "metadata": {},
     "output_type": "execute_result"
    },
    {
     "data": {
      "image/png": "[encoded data removed]",
      "text/plain": [
       "<Figure size 432x288 with 1 Axes>"
      ]
     },
     "metadata": {
      "needs_background": "light"
     },
     "output_type": "display_data"
    }
   ],
   "source": [
    "sns.countplot(data=df,\n",
    "              y='badWord',\n",
    "              order = df['badWord'].value_counts().iloc[:5].index\n",
    "             )\n",
    "plt.title('Top 5 swear words used');\n",
    "plt.xlabel('Swear Word')\n",
    "plt.xlabel('Frequency (# of words)')"
   ]
  },
  {
   "cell_type": "code",
   "execution_count": 16,
   "id": "integral-estimate",
   "metadata": {},
   "outputs": [
    {
     "data": {
      "text/html": [
       "<div>\n",
       "<style scoped>\n",
       "    .dataframe tbody tr th:only-of-type {\n",
       "        vertical-align: middle;\n",
       "    }\n",
       "\n",
       "    .dataframe tbody tr th {\n",
       "        vertical-align: top;\n",
       "    }\n",
       "\n",
       "    .dataframe thead th {\n",
       "        text-align: right;\n",
       "    }\n",
       "</style>\n",
       "<table border=\"1\" class=\"dataframe\">\n",
       "  <thead>\n",
       "    <tr style=\"text-align: right;\">\n",
       "      <th></th>\n",
       "      <th>year</th>\n",
       "      <th>value</th>\n",
       "    </tr>\n",
       "  </thead>\n",
       "  <tbody>\n",
       "    <tr>\n",
       "      <th>0</th>\n",
       "      <td>2019</td>\n",
       "      <td>32</td>\n",
       "    </tr>\n",
       "    <tr>\n",
       "      <th>1</th>\n",
       "      <td>2018</td>\n",
       "      <td>2</td>\n",
       "    </tr>\n",
       "    <tr>\n",
       "      <th>2</th>\n",
       "      <td>2017</td>\n",
       "      <td>8</td>\n",
       "    </tr>\n",
       "    <tr>\n",
       "      <th>3</th>\n",
       "      <td>2016</td>\n",
       "      <td>10</td>\n",
       "    </tr>\n",
       "    <tr>\n",
       "      <th>4</th>\n",
       "      <td>2015</td>\n",
       "      <td>2</td>\n",
       "    </tr>\n",
       "    <tr>\n",
       "      <th>5</th>\n",
       "      <td>2014</td>\n",
       "      <td>4</td>\n",
       "    </tr>\n",
       "    <tr>\n",
       "      <th>6</th>\n",
       "      <td>2013</td>\n",
       "      <td>11</td>\n",
       "    </tr>\n",
       "    <tr>\n",
       "      <th>7</th>\n",
       "      <td>2012</td>\n",
       "      <td>4</td>\n",
       "    </tr>\n",
       "    <tr>\n",
       "      <th>8</th>\n",
       "      <td>2011</td>\n",
       "      <td>2</td>\n",
       "    </tr>\n",
       "    <tr>\n",
       "      <th>9</th>\n",
       "      <td>2010</td>\n",
       "      <td>3</td>\n",
       "    </tr>\n",
       "    <tr>\n",
       "      <th>10</th>\n",
       "      <td>2009</td>\n",
       "      <td>1</td>\n",
       "    </tr>\n",
       "    <tr>\n",
       "      <th>11</th>\n",
       "      <td>2008</td>\n",
       "      <td>1</td>\n",
       "    </tr>\n",
       "    <tr>\n",
       "      <th>12</th>\n",
       "      <td>2007</td>\n",
       "      <td>4</td>\n",
       "    </tr>\n",
       "    <tr>\n",
       "      <th>13</th>\n",
       "      <td>2006</td>\n",
       "      <td>4</td>\n",
       "    </tr>\n",
       "    <tr>\n",
       "      <th>14</th>\n",
       "      <td>2005</td>\n",
       "      <td>1</td>\n",
       "    </tr>\n",
       "  </tbody>\n",
       "</table>\n",
       "</div>"
      ],
      "text/plain": [
       "    year  value\n",
       "0   2019     32\n",
       "1   2018      2\n",
       "2   2017      8\n",
       "3   2016     10\n",
       "4   2015      2\n",
       "5   2014      4\n",
       "6   2013     11\n",
       "7   2012      4\n",
       "8   2011      2\n",
       "9   2010      3\n",
       "10  2009      1\n",
       "11  2008      1\n",
       "12  2007      4\n",
       "13  2006      4\n",
       "14  2005      1"
      ]
     },
     "execution_count": 16,
     "metadata": {},
     "output_type": "execute_result"
    }
   ],
   "source": [
    "df_fWord = pf.badWorddf(df,'badWord','fuck')\n",
    "df_fWord"
   ]
  },
  {
   "cell_type": "code",
   "execution_count": 17,
   "id": "fifth-concentrate",
   "metadata": {},
   "outputs": [
    {
     "data": {
      "text/plain": [
       "Text(0, 0.5, 'Frequency (# of words)')"
      ]
     },
     "execution_count": 17,
     "metadata": {},
     "output_type": "execute_result"
    },
    {
     "data": {
      "image/png": "[encoded data removed]",
      "text/plain": [
       "<Figure size 432x288 with 1 Axes>"
      ]
     },
     "metadata": {
      "needs_background": "light"
     },
     "output_type": "display_data"
    }
   ],
   "source": [
    "sns.lineplot(data=df_fWord, x='year', y='value')\n",
    "plt.title('Usage of the f word over the years');\n",
    "plt.xlabel('Year')\n",
    "plt.ylabel('Frequency (# of words)')"
   ]
  },
  {
   "cell_type": "markdown",
   "id": "cubic-functionality",
   "metadata": {},
   "source": [
    "### The usage trend of the top 5 most utilized swear words over time"
   ]
  },
  {
   "cell_type": "code",
   "execution_count": 18,
   "id": "annoying-campaign",
   "metadata": {},
   "outputs": [
    {
     "data": {
      "text/html": [
       "<div>\n",
       "<style scoped>\n",
       "    .dataframe tbody tr th:only-of-type {\n",
       "        vertical-align: middle;\n",
       "    }\n",
       "\n",
       "    .dataframe tbody tr th {\n",
       "        vertical-align: top;\n",
       "    }\n",
       "\n",
       "    .dataframe thead th {\n",
       "        text-align: right;\n",
       "    }\n",
       "</style>\n",
       "<table border=\"1\" class=\"dataframe\">\n",
       "  <thead>\n",
       "    <tr style=\"text-align: right;\">\n",
       "      <th></th>\n",
       "      <th>year</th>\n",
       "      <th>badWord</th>\n",
       "      <th>value</th>\n",
       "    </tr>\n",
       "  </thead>\n",
       "  <tbody>\n",
       "    <tr>\n",
       "      <th>0</th>\n",
       "      <td>2001</td>\n",
       "      <td>man</td>\n",
       "      <td>1</td>\n",
       "    </tr>\n",
       "    <tr>\n",
       "      <th>1</th>\n",
       "      <td>2002</td>\n",
       "      <td>freak</td>\n",
       "      <td>4</td>\n",
       "    </tr>\n",
       "    <tr>\n",
       "      <th>2</th>\n",
       "      <td>2003</td>\n",
       "      <td>man</td>\n",
       "      <td>3</td>\n",
       "    </tr>\n",
       "    <tr>\n",
       "      <th>3</th>\n",
       "      <td>2004</td>\n",
       "      <td>man</td>\n",
       "      <td>3</td>\n",
       "    </tr>\n",
       "    <tr>\n",
       "      <th>4</th>\n",
       "      <td>2005</td>\n",
       "      <td>shit</td>\n",
       "      <td>2</td>\n",
       "    </tr>\n",
       "    <tr>\n",
       "      <th>5</th>\n",
       "      <td>2006</td>\n",
       "      <td>damn</td>\n",
       "      <td>6</td>\n",
       "    </tr>\n",
       "    <tr>\n",
       "      <th>6</th>\n",
       "      <td>2007</td>\n",
       "      <td>man</td>\n",
       "      <td>8</td>\n",
       "    </tr>\n",
       "    <tr>\n",
       "      <th>7</th>\n",
       "      <td>2008</td>\n",
       "      <td>suicidal</td>\n",
       "      <td>8</td>\n",
       "    </tr>\n",
       "    <tr>\n",
       "      <th>8</th>\n",
       "      <td>2009</td>\n",
       "      <td>shit</td>\n",
       "      <td>9</td>\n",
       "    </tr>\n",
       "    <tr>\n",
       "      <th>9</th>\n",
       "      <td>2010</td>\n",
       "      <td>kiss</td>\n",
       "      <td>8</td>\n",
       "    </tr>\n",
       "    <tr>\n",
       "      <th>10</th>\n",
       "      <td>2011</td>\n",
       "      <td>man</td>\n",
       "      <td>5</td>\n",
       "    </tr>\n",
       "    <tr>\n",
       "      <th>11</th>\n",
       "      <td>2012</td>\n",
       "      <td>shit</td>\n",
       "      <td>9</td>\n",
       "    </tr>\n",
       "    <tr>\n",
       "      <th>12</th>\n",
       "      <td>2013</td>\n",
       "      <td>fuck</td>\n",
       "      <td>11</td>\n",
       "    </tr>\n",
       "    <tr>\n",
       "      <th>13</th>\n",
       "      <td>2014</td>\n",
       "      <td>kiss</td>\n",
       "      <td>6</td>\n",
       "    </tr>\n",
       "    <tr>\n",
       "      <th>14</th>\n",
       "      <td>2015</td>\n",
       "      <td>gun</td>\n",
       "      <td>13</td>\n",
       "    </tr>\n",
       "    <tr>\n",
       "      <th>15</th>\n",
       "      <td>2016</td>\n",
       "      <td>fuck</td>\n",
       "      <td>10</td>\n",
       "    </tr>\n",
       "    <tr>\n",
       "      <th>16</th>\n",
       "      <td>2017</td>\n",
       "      <td>whiskey</td>\n",
       "      <td>11</td>\n",
       "    </tr>\n",
       "    <tr>\n",
       "      <th>17</th>\n",
       "      <td>2018</td>\n",
       "      <td>shit</td>\n",
       "      <td>15</td>\n",
       "    </tr>\n",
       "    <tr>\n",
       "      <th>18</th>\n",
       "      <td>2019</td>\n",
       "      <td>fuck</td>\n",
       "      <td>32</td>\n",
       "    </tr>\n",
       "  </tbody>\n",
       "</table>\n",
       "</div>"
      ],
      "text/plain": [
       "    year   badWord  value\n",
       "0   2001       man      1\n",
       "1   2002     freak      4\n",
       "2   2003       man      3\n",
       "3   2004       man      3\n",
       "4   2005      shit      2\n",
       "5   2006      damn      6\n",
       "6   2007       man      8\n",
       "7   2008  suicidal      8\n",
       "8   2009      shit      9\n",
       "9   2010      kiss      8\n",
       "10  2011       man      5\n",
       "11  2012      shit      9\n",
       "12  2013      fuck     11\n",
       "13  2014      kiss      6\n",
       "14  2015       gun     13\n",
       "15  2016      fuck     10\n",
       "16  2017   whiskey     11\n",
       "17  2018      shit     15\n",
       "18  2019      fuck     32"
      ]
     },
     "execution_count": 18,
     "metadata": {},
     "output_type": "execute_result"
    }
   ],
   "source": [
    "df_YearGroup = df.groupby(by='year')\n",
    "df_YearGroup.get_group(2002)\n",
    "list0 = list()\n",
    "\n",
    "for i in range(2001,2020):\n",
    "    list0.append([i,df_YearGroup.get_group(i)['badWord'].value_counts().index[0],df_YearGroup.get_group(i)['badWord'].value_counts()[0]])\n",
    "df_badWordbyYear = pd.DataFrame(list0).rename(columns={0:'year',1:'badWord',2:'value'})\n",
    "df_badWordbyYear"
   ]
  },
  {
   "cell_type": "code",
   "execution_count": 19,
   "id": "protective-relationship",
   "metadata": {},
   "outputs": [],
   "source": [
    "from analysis.scripts import project_functions_Tom as pfT"
   ]
  },
  {
   "cell_type": "code",
   "execution_count": 20,
   "id": "sexual-bruce",
   "metadata": {},
   "outputs": [
    {
     "data": {
      "text/html": [
       "<div>\n",
       "<style scoped>\n",
       "    .dataframe tbody tr th:only-of-type {\n",
       "        vertical-align: middle;\n",
       "    }\n",
       "\n",
       "    .dataframe tbody tr th {\n",
       "        vertical-align: top;\n",
       "    }\n",
       "\n",
       "    .dataframe thead th {\n",
       "        text-align: right;\n",
       "    }\n",
       "</style>\n",
       "<table border=\"1\" class=\"dataframe\">\n",
       "  <thead>\n",
       "    <tr style=\"text-align: right;\">\n",
       "      <th></th>\n",
       "      <th>badWord</th>\n",
       "      <th>frequency</th>\n",
       "    </tr>\n",
       "  </thead>\n",
       "  <tbody>\n",
       "    <tr>\n",
       "      <th>0</th>\n",
       "      <td>fuck</td>\n",
       "      <td>89</td>\n",
       "    </tr>\n",
       "    <tr>\n",
       "      <th>1</th>\n",
       "      <td>shit</td>\n",
       "      <td>77</td>\n",
       "    </tr>\n",
       "    <tr>\n",
       "      <th>2</th>\n",
       "      <td>damn</td>\n",
       "      <td>68</td>\n",
       "    </tr>\n",
       "    <tr>\n",
       "      <th>3</th>\n",
       "      <td>man</td>\n",
       "      <td>57</td>\n",
       "    </tr>\n",
       "    <tr>\n",
       "      <th>4</th>\n",
       "      <td>kiss</td>\n",
       "      <td>53</td>\n",
       "    </tr>\n",
       "  </tbody>\n",
       "</table>\n",
       "</div>"
      ],
      "text/plain": [
       "  badWord  frequency\n",
       "0    fuck         89\n",
       "1    shit         77\n",
       "2    damn         68\n",
       "3     man         57\n",
       "4    kiss         53"
      ]
     },
     "execution_count": 20,
     "metadata": {},
     "output_type": "execute_result"
    }
   ],
   "source": [
    "dfBadWord_count = pfT.badword_count(df)\n",
    "dfBadWord_count.head(5)"
   ]
  },
  {
   "cell_type": "code",
   "execution_count": 21,
   "id": "norman-surgery",
   "metadata": {},
   "outputs": [
    {
     "data": {
      "text/html": [
       "<div>\n",
       "<style scoped>\n",
       "    .dataframe tbody tr th:only-of-type {\n",
       "        vertical-align: middle;\n",
       "    }\n",
       "\n",
       "    .dataframe tbody tr th {\n",
       "        vertical-align: top;\n",
       "    }\n",
       "\n",
       "    .dataframe thead th {\n",
       "        text-align: right;\n",
       "    }\n",
       "</style>\n",
       "<table border=\"1\" class=\"dataframe\">\n",
       "  <thead>\n",
       "    <tr style=\"text-align: right;\">\n",
       "      <th></th>\n",
       "      <th>badWord</th>\n",
       "      <th>year</th>\n",
       "      <th>count</th>\n",
       "    </tr>\n",
       "  </thead>\n",
       "  <tbody>\n",
       "    <tr>\n",
       "      <th>0</th>\n",
       "      <td>fuck</td>\n",
       "      <td>2019</td>\n",
       "      <td>32</td>\n",
       "    </tr>\n",
       "    <tr>\n",
       "      <th>1</th>\n",
       "      <td>shit</td>\n",
       "      <td>2018</td>\n",
       "      <td>15</td>\n",
       "    </tr>\n",
       "    <tr>\n",
       "      <th>2</th>\n",
       "      <td>kiss</td>\n",
       "      <td>2015</td>\n",
       "      <td>13</td>\n",
       "    </tr>\n",
       "    <tr>\n",
       "      <th>3</th>\n",
       "      <td>fuck</td>\n",
       "      <td>2013</td>\n",
       "      <td>11</td>\n",
       "    </tr>\n",
       "    <tr>\n",
       "      <th>4</th>\n",
       "      <td>fuck</td>\n",
       "      <td>2016</td>\n",
       "      <td>10</td>\n",
       "    </tr>\n",
       "    <tr>\n",
       "      <th>...</th>\n",
       "      <td>...</td>\n",
       "      <td>...</td>\n",
       "      <td>...</td>\n",
       "    </tr>\n",
       "    <tr>\n",
       "      <th>63</th>\n",
       "      <td>kiss</td>\n",
       "      <td>2008</td>\n",
       "      <td>1</td>\n",
       "    </tr>\n",
       "    <tr>\n",
       "      <th>64</th>\n",
       "      <td>fuck</td>\n",
       "      <td>2009</td>\n",
       "      <td>1</td>\n",
       "    </tr>\n",
       "    <tr>\n",
       "      <th>65</th>\n",
       "      <td>shit</td>\n",
       "      <td>2014</td>\n",
       "      <td>1</td>\n",
       "    </tr>\n",
       "    <tr>\n",
       "      <th>66</th>\n",
       "      <td>shit</td>\n",
       "      <td>2015</td>\n",
       "      <td>1</td>\n",
       "    </tr>\n",
       "    <tr>\n",
       "      <th>67</th>\n",
       "      <td>damn</td>\n",
       "      <td>2003</td>\n",
       "      <td>1</td>\n",
       "    </tr>\n",
       "  </tbody>\n",
       "</table>\n",
       "<p>68 rows × 3 columns</p>\n",
       "</div>"
      ],
      "text/plain": [
       "   badWord  year  count\n",
       "0     fuck  2019     32\n",
       "1     shit  2018     15\n",
       "2     kiss  2015     13\n",
       "3     fuck  2013     11\n",
       "4     fuck  2016     10\n",
       "..     ...   ...    ...\n",
       "63    kiss  2008      1\n",
       "64    fuck  2009      1\n",
       "65    shit  2014      1\n",
       "66    shit  2015      1\n",
       "67    damn  2003      1\n",
       "\n",
       "[68 rows x 3 columns]"
      ]
     },
     "execution_count": 21,
     "metadata": {},
     "output_type": "execute_result"
    }
   ],
   "source": [
    "df_word_count = pfT.words_per_year(df)\n",
    "df_word_count"
   ]
  },
  {
   "cell_type": "code",
   "execution_count": 23,
   "id": "grand-worthy",
   "metadata": {},
   "outputs": [
    {
     "data": {
      "image/png": "[encoded data removed]",
      "text/plain": [
       "<Figure size 432x288 with 1 Axes>"
      ]
     },
     "metadata": {
      "needs_background": "light"
     },
     "output_type": "display_data"
    }
   ],
   "source": [
    "sns.lineplot(data=df_word_count, x='year', y='count', hue = \"badWord\")\n",
    "plt.xticks(range(2001,2020,2))\n",
    "plt.title('Top 5 swear words\\' usage over the years')\n",
    "plt.xlabel('Year')\n",
    "plt.ylabel('Frequency (# of words)');"
   ]
  },
  {
   "cell_type": "markdown",
   "id": "announced-objective",
   "metadata": {},
   "source": [
    "### Conclusion for Research Question 1"
   ]
  },
  {
   "cell_type": "markdown",
   "id": "round-barbados",
   "metadata": {},
   "source": [
    "In the visualizations and manipulated dataframes, we can see a clear upward trend of swear words as the years go on. Therefore, we conclude that there is a trend between the frequency of swear words in pop songs over the years. This trend is that the frequency of swear words is going up."
   ]
  },
  {
   "cell_type": "markdown",
   "id": "according-concentration",
   "metadata": {},
   "source": [
    "## Filtering dataframe to answer Research Question 2"
   ]
  },
  {
   "cell_type": "code",
   "execution_count": 24,
   "id": "golden-terrain",
   "metadata": {},
   "outputs": [
    {
     "data": {
      "text/plain": [
       "Macklemore & Ryan Lewis    52\n",
       "Ed Sheeran                 48\n",
       "Maroon 5                   47\n",
       "Taylor Swift               46\n",
       "Drake                      41\n",
       "Name: ogArtist, dtype: int64"
      ]
     },
     "execution_count": 24,
     "metadata": {},
     "output_type": "execute_result"
    }
   ],
   "source": [
    "df['ogArtist'].value_counts().iloc[:5]"
   ]
  },
  {
   "cell_type": "code",
   "execution_count": 25,
   "id": "martial-sociology",
   "metadata": {},
   "outputs": [
    {
     "data": {
      "text/html": [
       "<div>\n",
       "<style scoped>\n",
       "    .dataframe tbody tr th:only-of-type {\n",
       "        vertical-align: middle;\n",
       "    }\n",
       "\n",
       "    .dataframe tbody tr th {\n",
       "        vertical-align: top;\n",
       "    }\n",
       "\n",
       "    .dataframe thead th {\n",
       "        text-align: right;\n",
       "    }\n",
       "</style>\n",
       "<table border=\"1\" class=\"dataframe\">\n",
       "  <thead>\n",
       "    <tr style=\"text-align: right;\">\n",
       "      <th></th>\n",
       "      <th>year</th>\n",
       "      <th>ogArtist</th>\n",
       "      <th>value</th>\n",
       "    </tr>\n",
       "  </thead>\n",
       "  <tbody>\n",
       "    <tr>\n",
       "      <th>0</th>\n",
       "      <td>2001</td>\n",
       "      <td>Christina Aguilera</td>\n",
       "      <td>1</td>\n",
       "    </tr>\n",
       "    <tr>\n",
       "      <th>1</th>\n",
       "      <td>2002</td>\n",
       "      <td>Aaliyah</td>\n",
       "      <td>4</td>\n",
       "    </tr>\n",
       "    <tr>\n",
       "      <th>2</th>\n",
       "      <td>2003</td>\n",
       "      <td>Baha Men</td>\n",
       "      <td>3</td>\n",
       "    </tr>\n",
       "    <tr>\n",
       "      <th>3</th>\n",
       "      <td>2004</td>\n",
       "      <td>Jet (band)</td>\n",
       "      <td>3</td>\n",
       "    </tr>\n",
       "    <tr>\n",
       "      <th>4</th>\n",
       "      <td>2005</td>\n",
       "      <td>The Black Eyed Peas</td>\n",
       "      <td>2</td>\n",
       "    </tr>\n",
       "    <tr>\n",
       "      <th>5</th>\n",
       "      <td>2006</td>\n",
       "      <td>The Black Eyed Peas</td>\n",
       "      <td>11</td>\n",
       "    </tr>\n",
       "    <tr>\n",
       "      <th>6</th>\n",
       "      <td>2007</td>\n",
       "      <td>Fergie</td>\n",
       "      <td>16</td>\n",
       "    </tr>\n",
       "    <tr>\n",
       "      <th>7</th>\n",
       "      <td>2008</td>\n",
       "      <td>Sean Kingston</td>\n",
       "      <td>15</td>\n",
       "    </tr>\n",
       "    <tr>\n",
       "      <th>8</th>\n",
       "      <td>2009</td>\n",
       "      <td>The Black Eyed Peas</td>\n",
       "      <td>12</td>\n",
       "    </tr>\n",
       "    <tr>\n",
       "      <th>9</th>\n",
       "      <td>2010</td>\n",
       "      <td>Lady Gaga</td>\n",
       "      <td>27</td>\n",
       "    </tr>\n",
       "    <tr>\n",
       "      <th>10</th>\n",
       "      <td>2011</td>\n",
       "      <td>Tinie Tempah</td>\n",
       "      <td>7</td>\n",
       "    </tr>\n",
       "    <tr>\n",
       "      <th>11</th>\n",
       "      <td>2012</td>\n",
       "      <td>Maroon 5</td>\n",
       "      <td>24</td>\n",
       "    </tr>\n",
       "    <tr>\n",
       "      <th>12</th>\n",
       "      <td>2013</td>\n",
       "      <td>Macklemore &amp; Ryan Lewis</td>\n",
       "      <td>30</td>\n",
       "    </tr>\n",
       "    <tr>\n",
       "      <th>13</th>\n",
       "      <td>2014</td>\n",
       "      <td>Florida Georgia Line</td>\n",
       "      <td>12</td>\n",
       "    </tr>\n",
       "    <tr>\n",
       "      <th>14</th>\n",
       "      <td>2015</td>\n",
       "      <td>Major Lazer</td>\n",
       "      <td>36</td>\n",
       "    </tr>\n",
       "    <tr>\n",
       "      <th>15</th>\n",
       "      <td>2016</td>\n",
       "      <td>Macklemore &amp; Ryan Lewis</td>\n",
       "      <td>22</td>\n",
       "    </tr>\n",
       "    <tr>\n",
       "      <th>16</th>\n",
       "      <td>2017</td>\n",
       "      <td>DJ Khaled</td>\n",
       "      <td>18</td>\n",
       "    </tr>\n",
       "    <tr>\n",
       "      <th>17</th>\n",
       "      <td>2018</td>\n",
       "      <td>Drake</td>\n",
       "      <td>27</td>\n",
       "    </tr>\n",
       "    <tr>\n",
       "      <th>18</th>\n",
       "      <td>2019</td>\n",
       "      <td>Ed Sheeran</td>\n",
       "      <td>27</td>\n",
       "    </tr>\n",
       "  </tbody>\n",
       "</table>\n",
       "</div>"
      ],
      "text/plain": [
       "    year                 ogArtist  value\n",
       "0   2001       Christina Aguilera      1\n",
       "1   2002                  Aaliyah      4\n",
       "2   2003                 Baha Men      3\n",
       "3   2004               Jet (band)      3\n",
       "4   2005      The Black Eyed Peas      2\n",
       "5   2006      The Black Eyed Peas     11\n",
       "6   2007                   Fergie     16\n",
       "7   2008            Sean Kingston     15\n",
       "8   2009      The Black Eyed Peas     12\n",
       "9   2010                Lady Gaga     27\n",
       "10  2011             Tinie Tempah      7\n",
       "11  2012                 Maroon 5     24\n",
       "12  2013  Macklemore & Ryan Lewis     30\n",
       "13  2014     Florida Georgia Line     12\n",
       "14  2015              Major Lazer     36\n",
       "15  2016  Macklemore & Ryan Lewis     22\n",
       "16  2017                DJ Khaled     18\n",
       "17  2018                    Drake     27\n",
       "18  2019               Ed Sheeran     27"
      ]
     },
     "execution_count": 25,
     "metadata": {},
     "output_type": "execute_result"
    }
   ],
   "source": [
    "df_YearGroup.get_group(2001)['ogArtist'].value_counts()\n",
    "list1 = list()\n",
    "\n",
    "for i in range(2001,2020):\n",
    "    list1.append([i, df_YearGroup.get_group(i)['ogArtist'].value_counts().index[0], df_YearGroup.get_group(i)['ogArtist'].value_counts()[0]])\n",
    "df_badWordbyArtist = pd.DataFrame(list1).rename(columns={0:'year',1:'ogArtist',2:'value'})\n",
    "df_badWordbyArtist"
   ]
  },
  {
   "cell_type": "code",
   "execution_count": 26,
   "id": "french-preparation",
   "metadata": {},
   "outputs": [
    {
     "data": {
      "text/plain": [
       "The Black Eyed Peas        3\n",
       "Macklemore & Ryan Lewis    2\n",
       "Lady Gaga                  1\n",
       "DJ Khaled                  1\n",
       "Christina Aguilera         1\n",
       "Name: ogArtist, dtype: int64"
      ]
     },
     "execution_count": 26,
     "metadata": {},
     "output_type": "execute_result"
    }
   ],
   "source": [
    "df_badWordbyArtist['ogArtist'].value_counts().iloc[:5]"
   ]
  },
  {
   "cell_type": "code",
   "execution_count": 28,
   "id": "experimental-allocation",
   "metadata": {},
   "outputs": [
    {
     "data": {
      "image/png": "[encoded data removed]",
      "text/plain": [
       "<Figure size 432x288 with 1 Axes>"
      ]
     },
     "metadata": {
      "needs_background": "light"
     },
     "output_type": "display_data"
    }
   ],
   "source": [
    "sns.countplot(data=df_badWordbyArtist,\n",
    "              y='ogArtist'\n",
    "             )\n",
    "plt.xticks(range(0,4));\n",
    "plt.ylabel('Artist')\n",
    "plt.xlabel('Frequency (# of times artist swore the most by year)')\n",
    "plt.title('Amount of times artist \"won\" number 1 for swearing of the year');"
   ]
  },
  {
   "cell_type": "code",
   "execution_count": 29,
   "id": "dying-lighter",
   "metadata": {},
   "outputs": [
    {
     "data": {
      "image/png": "[encoded data removed]",
      "text/plain": [
       "<Figure size 432x288 with 1 Axes>"
      ]
     },
     "metadata": {
      "needs_background": "light"
     },
     "output_type": "display_data"
    }
   ],
   "source": [
    "sns.countplot(data=df,\n",
    "              y='ogArtist',\n",
    "              order = df['ogArtist'].value_counts().iloc[:5].index\n",
    "             )\n",
    "plt.title('Top 5 artists that swear the most')\n",
    "plt.ylabel('Artist')\n",
    "plt.xlabel('Frequency (# of times artist swore)');"
   ]
  },
  {
   "cell_type": "markdown",
   "id": "fatty-retention",
   "metadata": {},
   "source": [
    "Investigating Ed Sheeran's swearing count per year"
   ]
  },
  {
   "cell_type": "code",
   "execution_count": 30,
   "id": "loving-occupation",
   "metadata": {},
   "outputs": [
    {
     "data": {
      "text/plain": [
       "2019    27\n",
       "2014     9\n",
       "2017     8\n",
       "2018     4\n",
       "Name: year, dtype: int64"
      ]
     },
     "execution_count": 30,
     "metadata": {},
     "output_type": "execute_result"
    }
   ],
   "source": [
    "df[df['ogArtist']=='Ed Sheeran']['year'].value_counts()"
   ]
  },
  {
   "cell_type": "markdown",
   "id": "indonesian-hazard",
   "metadata": {},
   "source": [
    "## Conclusion for Research Question 2"
   ]
  },
  {
   "cell_type": "markdown",
   "id": "modified-ghost",
   "metadata": {},
   "source": [
    "With the combination of visuals and data frame manipulations, we see that while Macklemore & Ryan Lewis as well as other artists such as Ed Sheeran and Maroon 5 are in the top 5 for artists that swear the most, we see that if we seperate this by which artists swore the most in each year, The Black Eyed Peas have more of a history of swearing on average. This indicates that they have a longer history of swearing compared to, say, Ed Sheeran, who's songs have more swears in them in the year of 2019. Overall however, we see that Macklemore also has a longer history of swearing the most per year, coming in second, as well as having songs that contain the most swears. Therefore we conclude that Macklemore & Ryan Lewis are the artists that swear the most."
   ]
  },
  {
   "cell_type": "code",
   "execution_count": null,
   "id": "ethical-world",
   "metadata": {},
   "outputs": [],
   "source": []
  }
 ],
 "metadata": {
  "kernelspec": {
   "display_name": "Python 3",
   "language": "python",
   "name": "python3"
  },
  "language_info": {
   "codemirror_mode": {
    "name": "ipython",
    "version": 3
   },
   "file_extension": ".py",
   "mimetype": "text/x-python",
   "name": "python",
   "nbconvert_exporter": "python",
   "pygments_lexer": "ipython3",
   "version": "3.8.5"
  }
 },
 "nbformat": 4,
 "nbformat_minor": 5
}
