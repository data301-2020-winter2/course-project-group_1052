{
 "cells": [
  {
   "cell_type": "markdown",
   "id": "marine-batman",
   "metadata": {},
   "source": [
    "# Task 5 Answering Research Questions"
   ]
  },
  {
   "cell_type": "markdown",
   "id": "voluntary-blackberry",
   "metadata": {},
   "source": [
    "## Research Questions"
   ]
  },
  {
   "cell_type": "markdown",
   "id": "communist-belgium",
   "metadata": {},
   "source": [
    "- Has the usage of swear words increased over the years?"
   ]
  },
  {
   "cell_type": "code",
   "execution_count": 1,
   "id": "phantom-notion",
   "metadata": {},
   "outputs": [],
   "source": [
    "import os"
   ]
  },
  {
   "cell_type": "code",
   "execution_count": 2,
   "id": "active-planning",
   "metadata": {},
   "outputs": [],
   "source": [
    "from scripts import project_functions as pf"
   ]
  },
  {
   "cell_type": "code",
   "execution_count": 6,
   "id": "known-jordan",
   "metadata": {},
   "outputs": [],
   "source": [
    "import pandas as pd\n",
    "import numpy as np"
   ]
  },
  {
   "cell_type": "code",
   "execution_count": 7,
   "id": "corporate-penguin",
   "metadata": {},
   "outputs": [],
   "source": [
    "import seaborn as sns\n",
    "import matplotlib.pyplot as plt"
   ]
  },
  {
   "cell_type": "code",
   "execution_count": 5,
   "id": "antique-hamburg",
   "metadata": {},
   "outputs": [
    {
     "data": {
      "text/html": [
       "<div>\n",
       "<style scoped>\n",
       "    .dataframe tbody tr th:only-of-type {\n",
       "        vertical-align: middle;\n",
       "    }\n",
       "\n",
       "    .dataframe tbody tr th {\n",
       "        vertical-align: top;\n",
       "    }\n",
       "\n",
       "    .dataframe thead th {\n",
       "        text-align: right;\n",
       "    }\n",
       "</style>\n",
       "<table border=\"1\" class=\"dataframe\">\n",
       "  <thead>\n",
       "    <tr style=\"text-align: right;\">\n",
       "      <th></th>\n",
       "      <th>ogArtist</th>\n",
       "      <th>songName</th>\n",
       "      <th>badWord</th>\n",
       "      <th>count</th>\n",
       "      <th>category</th>\n",
       "      <th>year</th>\n",
       "      <th>ogLyric</th>\n",
       "      <th>kbLyric</th>\n",
       "    </tr>\n",
       "  </thead>\n",
       "  <tbody>\n",
       "    <tr>\n",
       "      <th>0</th>\n",
       "      <td>Ariana Grande</td>\n",
       "      <td>7 rings</td>\n",
       "      <td>bitch</td>\n",
       "      <td>2</td>\n",
       "      <td>profanity</td>\n",
       "      <td>2019</td>\n",
       "      <td>Bought matching diamonds for six of my bitches</td>\n",
       "      <td>Bought matching diamonds so they know what thi...</td>\n",
       "    </tr>\n",
       "    <tr>\n",
       "      <th>1</th>\n",
       "      <td>Britney Spears</td>\n",
       "      <td>till the world ends</td>\n",
       "      <td>blow</td>\n",
       "      <td>1</td>\n",
       "      <td>alcohol &amp; drugs</td>\n",
       "      <td>2011</td>\n",
       "      <td>Baby, let me blow your mind tonight</td>\n",
       "      <td>Baby, come on wave your hands tonight</td>\n",
       "    </tr>\n",
       "    <tr>\n",
       "      <th>2</th>\n",
       "      <td>Britney Spears</td>\n",
       "      <td>till the world ends</td>\n",
       "      <td>blow</td>\n",
       "      <td>2</td>\n",
       "      <td>alcohol &amp; drugs</td>\n",
       "      <td>2011</td>\n",
       "      <td>Baby, let me blow your mind tonight</td>\n",
       "      <td>Baby, come on wave your hands tonight</td>\n",
       "    </tr>\n",
       "    <tr>\n",
       "      <th>3</th>\n",
       "      <td>Britney Spears</td>\n",
       "      <td>till the world ends</td>\n",
       "      <td>touch</td>\n",
       "      <td>1</td>\n",
       "      <td>sexual</td>\n",
       "      <td>2011</td>\n",
       "      <td>Get you off with the touch, dancing in the dark</td>\n",
       "      <td>Set it off with a track dancing in the dark</td>\n",
       "    </tr>\n",
       "    <tr>\n",
       "      <th>4</th>\n",
       "      <td>Elle King</td>\n",
       "      <td>ex's and oh's</td>\n",
       "      <td>high</td>\n",
       "      <td>1</td>\n",
       "      <td>alcohol &amp; drugs</td>\n",
       "      <td>2016</td>\n",
       "      <td>I get high, and I love to get low</td>\n",
       "      <td>I get by, and I love to lay low</td>\n",
       "    </tr>\n",
       "  </tbody>\n",
       "</table>\n",
       "</div>"
      ],
      "text/plain": [
       "         ogArtist             songName badWord  count         category  year  \\\n",
       "0   Ariana Grande              7 rings   bitch      2        profanity  2019   \n",
       "1  Britney Spears  till the world ends    blow      1  alcohol & drugs  2011   \n",
       "2  Britney Spears  till the world ends    blow      2  alcohol & drugs  2011   \n",
       "3  Britney Spears  till the world ends   touch      1           sexual  2011   \n",
       "4       Elle King        ex's and oh's    high      1  alcohol & drugs  2016   \n",
       "\n",
       "                                           ogLyric  \\\n",
       "0   Bought matching diamonds for six of my bitches   \n",
       "1              Baby, let me blow your mind tonight   \n",
       "2              Baby, let me blow your mind tonight   \n",
       "3  Get you off with the touch, dancing in the dark   \n",
       "4                I get high, and I love to get low   \n",
       "\n",
       "                                             kbLyric  \n",
       "0  Bought matching diamonds so they know what thi...  \n",
       "1              Baby, come on wave your hands tonight  \n",
       "2              Baby, come on wave your hands tonight  \n",
       "3        Set it off with a track dancing in the dark  \n",
       "4                    I get by, and I love to lay low  "
      ]
     },
     "execution_count": 5,
     "metadata": {},
     "output_type": "execute_result"
    }
   ],
   "source": [
    "df = pf.load_df('data/raw/KB_censored-lyrics.csv')\n",
    "df.head()"
   ]
  },
  {
   "cell_type": "code",
   "execution_count": 18,
   "id": "hidden-retail",
   "metadata": {},
   "outputs": [
    {
     "data": {
      "text/plain": [
       "1"
      ]
     },
     "execution_count": 18,
     "metadata": {},
     "output_type": "execute_result"
    }
   ],
   "source": [
    "df_yearsGroup = df.groupby(by='year')\n",
    "df_yearsGroup.get_group(2001)['badWord'].value_counts().iloc[0]"
   ]
  },
  {
   "cell_type": "code",
   "execution_count": 28,
   "id": "checked-monkey",
   "metadata": {},
   "outputs": [
    {
     "name": "stdout",
     "output_type": "stream",
     "text": [
      "hip - 1\n",
      "crazy - 4\n",
      "man - 3\n",
      "man - 3\n",
      "shit - 2\n",
      "damn - 6\n",
      "man - 8\n",
      "suicidal - 8\n",
      "shit - 9\n",
      "kiss - 8\n",
      "man - 5\n",
      "shit - 9\n",
      "fuck - 11\n",
      "kiss - 6\n",
      "gun - 13\n",
      "fuck - 10\n",
      "whiskey - 11\n",
      "shit - 15\n",
      "fuck - 32\n"
     ]
    }
   ],
   "source": [
    "myList = list()\n",
    "for i in range(2001,2020):\n",
    "    myList.append(df_yearsGroup.get_group(i)['badWord'].value_counts())\n",
    "for i in myList:\n",
    "    print('{} - {}'.format(i.index[0],i[0]))"
   ]
  },
  {
   "cell_type": "code",
   "execution_count": null,
   "id": "virtual-metallic",
   "metadata": {},
   "outputs": [],
   "source": []
  }
 ],
 "metadata": {
  "kernelspec": {
   "display_name": "Python 3",
   "language": "python",
   "name": "python3"
  },
  "language_info": {
   "codemirror_mode": {
    "name": "ipython",
    "version": 3
   },
   "file_extension": ".py",
   "mimetype": "text/x-python",
   "name": "python",
   "nbconvert_exporter": "python",
   "pygments_lexer": "ipython3",
   "version": "3.8.5"
  }
 },
 "nbformat": 4,
 "nbformat_minor": 5
}
