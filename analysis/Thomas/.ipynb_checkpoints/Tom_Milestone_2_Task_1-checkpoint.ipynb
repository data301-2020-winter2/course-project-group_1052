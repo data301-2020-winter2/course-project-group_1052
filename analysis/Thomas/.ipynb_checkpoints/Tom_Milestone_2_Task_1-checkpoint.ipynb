{
 "cells": [
  {
   "cell_type": "markdown",
   "id": "rubber-measurement",
   "metadata": {},
   "source": [
    "# Markdown usage by Tom\n",
    "\n",
    "You can create multiple things:\n",
    "1. Ordered lists\n",
    "2. Yes\n",
    "3. List\n",
    "4. ^.^\n",
    "    \n",
    "**bold text**\n",
    "\n",
    "*italics*\n",
    "\n",
    "or links to [webpages](https://xkcd.com/386/)"
   ]
  }
 ],
 "metadata": {
  "kernelspec": {
   "display_name": "Python 3",
   "language": "python",
   "name": "python3"
  },
  "language_info": {
   "codemirror_mode": {
    "name": "ipython",
    "version": 3
   },
   "file_extension": ".py",
   "mimetype": "text/x-python",
   "name": "python",
   "nbconvert_exporter": "python",
   "pygments_lexer": "ipython3",
   "version": "3.8.5"
  }
 },
 "nbformat": 4,
 "nbformat_minor": 5
}
