{
 "cells": [
  {
   "cell_type": "code",
   "execution_count": 1,
   "id": "italic-rental",
   "metadata": {},
   "outputs": [],
   "source": [
    "import os\n",
    "import pandas as pd\n",
    "import numpy as np\n",
    "import matplotlib.pyplot as plt\n",
    "import seaborn as sns"
   ]
  },
  {
   "cell_type": "code",
   "execution_count": 2,
   "id": "moving-police",
   "metadata": {},
   "outputs": [
    {
     "data": {
      "text/plain": [
       "'E:\\\\4th-Year\\\\DATA-301\\\\DATA-301-Directory\\\\course-project-group_1052\\\\analysis\\\\Thomas'"
      ]
     },
     "execution_count": 2,
     "metadata": {},
     "output_type": "execute_result"
    }
   ],
   "source": [
    "os.getcwd()"
   ]
  },
  {
   "cell_type": "code",
   "execution_count": 3,
   "id": "streaming-stocks",
   "metadata": {},
   "outputs": [],
   "source": [
    "os.chdir('E:\\\\4th-Year\\\\DATA-301\\\\DATA-301-Directory\\\\course-project-group_1052')\n",
    "from analysis.scripts import project_functions_Tom as pf"
   ]
  },
  {
   "cell_type": "code",
   "execution_count": 4,
   "id": "brutal-chocolate",
   "metadata": {},
   "outputs": [
    {
     "data": {
      "text/html": [
       "<div>\n",
       "<style scoped>\n",
       "    .dataframe tbody tr th:only-of-type {\n",
       "        vertical-align: middle;\n",
       "    }\n",
       "\n",
       "    .dataframe tbody tr th {\n",
       "        vertical-align: top;\n",
       "    }\n",
       "\n",
       "    .dataframe thead th {\n",
       "        text-align: right;\n",
       "    }\n",
       "</style>\n",
       "<table border=\"1\" class=\"dataframe\">\n",
       "  <thead>\n",
       "    <tr style=\"text-align: right;\">\n",
       "      <th></th>\n",
       "      <th>ogArtist</th>\n",
       "      <th>badWord</th>\n",
       "      <th>count</th>\n",
       "      <th>category</th>\n",
       "      <th>year</th>\n",
       "      <th>isCensored</th>\n",
       "      <th>isPresent</th>\n",
       "    </tr>\n",
       "  </thead>\n",
       "  <tbody>\n",
       "    <tr>\n",
       "      <th>244</th>\n",
       "      <td>Christina Aguilera</td>\n",
       "      <td>sex</td>\n",
       "      <td>1</td>\n",
       "      <td>sexual</td>\n",
       "      <td>2001</td>\n",
       "      <td>1</td>\n",
       "      <td>1</td>\n",
       "    </tr>\n",
       "    <tr>\n",
       "      <th>831</th>\n",
       "      <td>Len</td>\n",
       "      <td>man</td>\n",
       "      <td>1</td>\n",
       "      <td>identity</td>\n",
       "      <td>2001</td>\n",
       "      <td>1</td>\n",
       "      <td>1</td>\n",
       "    </tr>\n",
       "    <tr>\n",
       "      <th>832</th>\n",
       "      <td>LFO</td>\n",
       "      <td>hip</td>\n",
       "      <td>2</td>\n",
       "      <td>sexual</td>\n",
       "      <td>2001</td>\n",
       "      <td>1</td>\n",
       "      <td>1</td>\n",
       "    </tr>\n",
       "    <tr>\n",
       "      <th>67</th>\n",
       "      <td>Aaliyah</td>\n",
       "      <td>freak</td>\n",
       "      <td>1</td>\n",
       "      <td>sexual</td>\n",
       "      <td>2002</td>\n",
       "      <td>1</td>\n",
       "      <td>1</td>\n",
       "    </tr>\n",
       "    <tr>\n",
       "      <th>126</th>\n",
       "      <td>Baha Men</td>\n",
       "      <td>woman</td>\n",
       "      <td>3</td>\n",
       "      <td>identity</td>\n",
       "      <td>2002</td>\n",
       "      <td>1</td>\n",
       "      <td>1</td>\n",
       "    </tr>\n",
       "    <tr>\n",
       "      <th>...</th>\n",
       "      <td>...</td>\n",
       "      <td>...</td>\n",
       "      <td>...</td>\n",
       "      <td>...</td>\n",
       "      <td>...</td>\n",
       "      <td>...</td>\n",
       "      <td>...</td>\n",
       "    </tr>\n",
       "    <tr>\n",
       "      <th>386</th>\n",
       "      <td>Ed Sheeran</td>\n",
       "      <td>cigarette</td>\n",
       "      <td>1</td>\n",
       "      <td>alcohol &amp; drugs</td>\n",
       "      <td>2019</td>\n",
       "      <td>1</td>\n",
       "      <td>1</td>\n",
       "    </tr>\n",
       "    <tr>\n",
       "      <th>385</th>\n",
       "      <td>Ed Sheeran</td>\n",
       "      <td>bottle</td>\n",
       "      <td>1</td>\n",
       "      <td>alcohol &amp; drugs</td>\n",
       "      <td>2019</td>\n",
       "      <td>1</td>\n",
       "      <td>1</td>\n",
       "    </tr>\n",
       "    <tr>\n",
       "      <th>384</th>\n",
       "      <td>Ed Sheeran</td>\n",
       "      <td>bar</td>\n",
       "      <td>3</td>\n",
       "      <td>alcohol &amp; drugs</td>\n",
       "      <td>2019</td>\n",
       "      <td>1</td>\n",
       "      <td>1</td>\n",
       "    </tr>\n",
       "    <tr>\n",
       "      <th>382</th>\n",
       "      <td>Ed Sheeran</td>\n",
       "      <td>bar</td>\n",
       "      <td>1</td>\n",
       "      <td>alcohol &amp; drugs</td>\n",
       "      <td>2019</td>\n",
       "      <td>1</td>\n",
       "      <td>1</td>\n",
       "    </tr>\n",
       "    <tr>\n",
       "      <th>19</th>\n",
       "      <td>Hilltop Hoods</td>\n",
       "      <td>god</td>\n",
       "      <td>1</td>\n",
       "      <td>other</td>\n",
       "      <td>2019</td>\n",
       "      <td>1</td>\n",
       "      <td>1</td>\n",
       "    </tr>\n",
       "  </tbody>\n",
       "</table>\n",
       "<p>1353 rows × 7 columns</p>\n",
       "</div>"
      ],
      "text/plain": [
       "               ogArtist    badWord  count         category  year  isCensored  \\\n",
       "244  Christina Aguilera        sex      1           sexual  2001           1   \n",
       "831                 Len        man      1         identity  2001           1   \n",
       "832                 LFO        hip      2           sexual  2001           1   \n",
       "67              Aaliyah      freak      1           sexual  2002           1   \n",
       "126            Baha Men      woman      3         identity  2002           1   \n",
       "..                  ...        ...    ...              ...   ...         ...   \n",
       "386          Ed Sheeran  cigarette      1  alcohol & drugs  2019           1   \n",
       "385          Ed Sheeran     bottle      1  alcohol & drugs  2019           1   \n",
       "384          Ed Sheeran        bar      3  alcohol & drugs  2019           1   \n",
       "382          Ed Sheeran        bar      1  alcohol & drugs  2019           1   \n",
       "19        Hilltop Hoods        god      1            other  2019           1   \n",
       "\n",
       "     isPresent  \n",
       "244          1  \n",
       "831          1  \n",
       "832          1  \n",
       "67           1  \n",
       "126          1  \n",
       "..         ...  \n",
       "386          1  \n",
       "385          1  \n",
       "384          1  \n",
       "382          1  \n",
       "19           1  \n",
       "\n",
       "[1353 rows x 7 columns]"
      ]
     },
     "execution_count": 4,
     "metadata": {},
     "output_type": "execute_result"
    }
   ],
   "source": [
    "df = pf.load_and_process('data/raw/KB_censored-lyrics.csv')\n",
    "df"
   ]
  },
  {
   "cell_type": "markdown",
   "id": "contained-finance",
   "metadata": {},
   "source": [
    "### Number of unique swear words"
   ]
  },
  {
   "cell_type": "code",
   "execution_count": 5,
   "id": "present-entrepreneur",
   "metadata": {},
   "outputs": [
    {
     "data": {
      "text/plain": [
       "167"
      ]
     },
     "execution_count": 5,
     "metadata": {},
     "output_type": "execute_result"
    }
   ],
   "source": [
    "df['badWord'].nunique()"
   ]
  },
  {
   "cell_type": "markdown",
   "id": "tribal-playing",
   "metadata": {},
   "source": [
    "### Total number of samples"
   ]
  },
  {
   "cell_type": "code",
   "execution_count": 6,
   "id": "standard-chrome",
   "metadata": {},
   "outputs": [
    {
     "data": {
      "text/plain": [
       "1353"
      ]
     },
     "execution_count": 6,
     "metadata": {},
     "output_type": "execute_result"
    }
   ],
   "source": [
    "df['badWord'].count()"
   ]
  },
  {
   "cell_type": "markdown",
   "id": "later-lexington",
   "metadata": {},
   "source": [
    "### Counting the number of bad words total in the dataframe"
   ]
  },
  {
   "cell_type": "code",
   "execution_count": 7,
   "id": "statewide-creativity",
   "metadata": {},
   "outputs": [
    {
     "data": {
      "text/html": [
       "<div>\n",
       "<style scoped>\n",
       "    .dataframe tbody tr th:only-of-type {\n",
       "        vertical-align: middle;\n",
       "    }\n",
       "\n",
       "    .dataframe tbody tr th {\n",
       "        vertical-align: top;\n",
       "    }\n",
       "\n",
       "    .dataframe thead th {\n",
       "        text-align: right;\n",
       "    }\n",
       "</style>\n",
       "<table border=\"1\" class=\"dataframe\">\n",
       "  <thead>\n",
       "    <tr style=\"text-align: right;\">\n",
       "      <th></th>\n",
       "      <th>badWord</th>\n",
       "      <th>frequency</th>\n",
       "    </tr>\n",
       "  </thead>\n",
       "  <tbody>\n",
       "    <tr>\n",
       "      <th>0</th>\n",
       "      <td>fuck</td>\n",
       "      <td>89</td>\n",
       "    </tr>\n",
       "    <tr>\n",
       "      <th>1</th>\n",
       "      <td>shit</td>\n",
       "      <td>77</td>\n",
       "    </tr>\n",
       "    <tr>\n",
       "      <th>2</th>\n",
       "      <td>damn</td>\n",
       "      <td>68</td>\n",
       "    </tr>\n",
       "    <tr>\n",
       "      <th>3</th>\n",
       "      <td>man</td>\n",
       "      <td>57</td>\n",
       "    </tr>\n",
       "    <tr>\n",
       "      <th>4</th>\n",
       "      <td>kiss</td>\n",
       "      <td>53</td>\n",
       "    </tr>\n",
       "    <tr>\n",
       "      <th>5</th>\n",
       "      <td>bitch</td>\n",
       "      <td>39</td>\n",
       "    </tr>\n",
       "    <tr>\n",
       "      <th>6</th>\n",
       "      <td>god</td>\n",
       "      <td>34</td>\n",
       "    </tr>\n",
       "    <tr>\n",
       "      <th>7</th>\n",
       "      <td>drink</td>\n",
       "      <td>33</td>\n",
       "    </tr>\n",
       "    <tr>\n",
       "      <th>8</th>\n",
       "      <td>body</td>\n",
       "      <td>31</td>\n",
       "    </tr>\n",
       "    <tr>\n",
       "      <th>9</th>\n",
       "      <td>touch</td>\n",
       "      <td>31</td>\n",
       "    </tr>\n",
       "    <tr>\n",
       "      <th>10</th>\n",
       "      <td>high</td>\n",
       "      <td>28</td>\n",
       "    </tr>\n",
       "    <tr>\n",
       "      <th>11</th>\n",
       "      <td>kill</td>\n",
       "      <td>28</td>\n",
       "    </tr>\n",
       "    <tr>\n",
       "      <th>12</th>\n",
       "      <td>sex</td>\n",
       "      <td>27</td>\n",
       "    </tr>\n",
       "    <tr>\n",
       "      <th>13</th>\n",
       "      <td>woman</td>\n",
       "      <td>27</td>\n",
       "    </tr>\n",
       "    <tr>\n",
       "      <th>14</th>\n",
       "      <td>blow</td>\n",
       "      <td>26</td>\n",
       "    </tr>\n",
       "    <tr>\n",
       "      <th>15</th>\n",
       "      <td>ass</td>\n",
       "      <td>26</td>\n",
       "    </tr>\n",
       "    <tr>\n",
       "      <th>16</th>\n",
       "      <td>drunk</td>\n",
       "      <td>23</td>\n",
       "    </tr>\n",
       "    <tr>\n",
       "      <th>17</th>\n",
       "      <td>die</td>\n",
       "      <td>23</td>\n",
       "    </tr>\n",
       "    <tr>\n",
       "      <th>18</th>\n",
       "      <td>sleep</td>\n",
       "      <td>21</td>\n",
       "    </tr>\n",
       "    <tr>\n",
       "      <th>19</th>\n",
       "      <td>hell</td>\n",
       "      <td>19</td>\n",
       "    </tr>\n",
       "  </tbody>\n",
       "</table>\n",
       "</div>"
      ],
      "text/plain": [
       "   badWord  frequency\n",
       "0     fuck         89\n",
       "1     shit         77\n",
       "2     damn         68\n",
       "3      man         57\n",
       "4     kiss         53\n",
       "5    bitch         39\n",
       "6      god         34\n",
       "7    drink         33\n",
       "8     body         31\n",
       "9    touch         31\n",
       "10    high         28\n",
       "11    kill         28\n",
       "12     sex         27\n",
       "13   woman         27\n",
       "14    blow         26\n",
       "15     ass         26\n",
       "16   drunk         23\n",
       "17     die         23\n",
       "18   sleep         21\n",
       "19    hell         19"
      ]
     },
     "execution_count": 7,
     "metadata": {},
     "output_type": "execute_result"
    }
   ],
   "source": [
    "dfBadWord_count = pf.badword_count(df)\n",
    "dfBadWord_count.head(20)"
   ]
  },
  {
   "cell_type": "markdown",
   "id": "brief-means",
   "metadata": {},
   "source": [
    "### Creating a visualization"
   ]
  },
  {
   "cell_type": "code",
   "execution_count": 8,
   "id": "geological-disaster",
   "metadata": {},
   "outputs": [
    {
     "data": {
      "text/plain": [
       "Text(0.5, 0, 'Frequency (count)')"
      ]
     },
     "execution_count": 8,
     "metadata": {},
     "output_type": "execute_result"
    },
    {
     "data": {
      "image/png": "[encoded data removed]",
      "text/plain": [
       "<Figure size 432x288 with 1 Axes>"
      ]
     },
     "metadata": {
      "needs_background": "light"
     },
     "output_type": "display_data"
    }
   ],
   "source": [
    "sns.countplot(data = df,\n",
    "              y = 'badWord',\n",
    "              order = df['badWord'].value_counts().iloc[:10].index,\n",
    "              palette = 'colorblind'\n",
    "             )\n",
    "plt.title('Frequency of Uncensored Swear Words')\n",
    "plt.ylabel('Swear word')\n",
    "plt.xlabel('Frequency (count)')"
   ]
  },
  {
   "cell_type": "markdown",
   "id": "square-collins",
   "metadata": {},
   "source": [
    "### Which artist has the most diverse use of swear words?"
   ]
  },
  {
   "cell_type": "code",
   "execution_count": 9,
   "id": "interested-compilation",
   "metadata": {},
   "outputs": [
    {
     "data": {
      "text/html": [
       "<div>\n",
       "<style scoped>\n",
       "    .dataframe tbody tr th:only-of-type {\n",
       "        vertical-align: middle;\n",
       "    }\n",
       "\n",
       "    .dataframe tbody tr th {\n",
       "        vertical-align: top;\n",
       "    }\n",
       "\n",
       "    .dataframe thead th {\n",
       "        text-align: right;\n",
       "    }\n",
       "</style>\n",
       "<table border=\"1\" class=\"dataframe\">\n",
       "  <thead>\n",
       "    <tr style=\"text-align: right;\">\n",
       "      <th></th>\n",
       "      <th>ogArtist</th>\n",
       "      <th>badWord</th>\n",
       "    </tr>\n",
       "  </thead>\n",
       "  <tbody>\n",
       "    <tr>\n",
       "      <th>0</th>\n",
       "      <td>Katy Perry</td>\n",
       "      <td>25</td>\n",
       "    </tr>\n",
       "    <tr>\n",
       "      <th>1</th>\n",
       "      <td>Ed Sheeran</td>\n",
       "      <td>23</td>\n",
       "    </tr>\n",
       "    <tr>\n",
       "      <th>2</th>\n",
       "      <td>Taylor Swift</td>\n",
       "      <td>22</td>\n",
       "    </tr>\n",
       "    <tr>\n",
       "      <th>3</th>\n",
       "      <td>Maroon 5</td>\n",
       "      <td>19</td>\n",
       "    </tr>\n",
       "    <tr>\n",
       "      <th>4</th>\n",
       "      <td>Flo Rida</td>\n",
       "      <td>18</td>\n",
       "    </tr>\n",
       "    <tr>\n",
       "      <th>5</th>\n",
       "      <td>Macklemore &amp; Ryan Lewis</td>\n",
       "      <td>18</td>\n",
       "    </tr>\n",
       "    <tr>\n",
       "      <th>6</th>\n",
       "      <td>Bruno Mars</td>\n",
       "      <td>16</td>\n",
       "    </tr>\n",
       "    <tr>\n",
       "      <th>7</th>\n",
       "      <td>DJ Khaled</td>\n",
       "      <td>16</td>\n",
       "    </tr>\n",
       "    <tr>\n",
       "      <th>8</th>\n",
       "      <td>Drake</td>\n",
       "      <td>16</td>\n",
       "    </tr>\n",
       "  </tbody>\n",
       "</table>\n",
       "</div>"
      ],
      "text/plain": [
       "                  ogArtist  badWord\n",
       "0               Katy Perry       25\n",
       "1               Ed Sheeran       23\n",
       "2             Taylor Swift       22\n",
       "3                 Maroon 5       19\n",
       "4                 Flo Rida       18\n",
       "5  Macklemore & Ryan Lewis       18\n",
       "6               Bruno Mars       16\n",
       "7                DJ Khaled       16\n",
       "8                    Drake       16"
      ]
     },
     "execution_count": 9,
     "metadata": {},
     "output_type": "execute_result"
    }
   ],
   "source": [
    "df_unique = pd.DataFrame(pf.unique_word_count(df)).reset_index()\n",
    "df_unique = df_unique[df_unique['badWord'] > 15]\n",
    "df_unique"
   ]
  },
  {
   "cell_type": "markdown",
   "id": "several-payroll",
   "metadata": {},
   "source": [
    "### Visualization"
   ]
  },
  {
   "cell_type": "code",
   "execution_count": 10,
   "id": "federal-basic",
   "metadata": {},
   "outputs": [
    {
     "data": {
      "text/plain": [
       "Text(0.5, 0, 'Artist')"
      ]
     },
     "execution_count": 10,
     "metadata": {},
     "output_type": "execute_result"
    },
    {
     "data": {
      "image/png": "[encoded data removed]",
      "text/plain": [
       "<Figure size 432x288 with 1 Axes>"
      ]
     },
     "metadata": {
      "needs_background": "light"
     },
     "output_type": "display_data"
    }
   ],
   "source": [
    "sns.barplot(data = df_unique,\n",
    "              y = 'badWord',\n",
    "              x = 'ogArtist',\n",
    "              palette = 'colorblind'\n",
    "             )\n",
    "plt.title('Artists number of unique swear words')\n",
    "plt.ylabel('Count')\n",
    "plt.xlabel('Artist')"
   ]
  },
  {
   "cell_type": "markdown",
   "id": "burning-survey",
   "metadata": {},
   "source": [
    "### Top 5 swear words over time"
   ]
  },
  {
   "cell_type": "code",
   "execution_count": 11,
   "id": "polished-detroit",
   "metadata": {},
   "outputs": [
    {
     "data": {
      "text/html": [
       "<div>\n",
       "<style scoped>\n",
       "    .dataframe tbody tr th:only-of-type {\n",
       "        vertical-align: middle;\n",
       "    }\n",
       "\n",
       "    .dataframe tbody tr th {\n",
       "        vertical-align: top;\n",
       "    }\n",
       "\n",
       "    .dataframe thead th {\n",
       "        text-align: right;\n",
       "    }\n",
       "</style>\n",
       "<table border=\"1\" class=\"dataframe\">\n",
       "  <thead>\n",
       "    <tr style=\"text-align: right;\">\n",
       "      <th></th>\n",
       "      <th>badWord</th>\n",
       "      <th>year</th>\n",
       "      <th>count</th>\n",
       "    </tr>\n",
       "  </thead>\n",
       "  <tbody>\n",
       "    <tr>\n",
       "      <th>0</th>\n",
       "      <td>fuck</td>\n",
       "      <td>2019</td>\n",
       "      <td>32</td>\n",
       "    </tr>\n",
       "    <tr>\n",
       "      <th>1</th>\n",
       "      <td>shit</td>\n",
       "      <td>2018</td>\n",
       "      <td>15</td>\n",
       "    </tr>\n",
       "    <tr>\n",
       "      <th>2</th>\n",
       "      <td>kiss</td>\n",
       "      <td>2015</td>\n",
       "      <td>13</td>\n",
       "    </tr>\n",
       "    <tr>\n",
       "      <th>3</th>\n",
       "      <td>fuck</td>\n",
       "      <td>2013</td>\n",
       "      <td>11</td>\n",
       "    </tr>\n",
       "    <tr>\n",
       "      <th>4</th>\n",
       "      <td>fuck</td>\n",
       "      <td>2016</td>\n",
       "      <td>10</td>\n",
       "    </tr>\n",
       "    <tr>\n",
       "      <th>...</th>\n",
       "      <td>...</td>\n",
       "      <td>...</td>\n",
       "      <td>...</td>\n",
       "    </tr>\n",
       "    <tr>\n",
       "      <th>63</th>\n",
       "      <td>kiss</td>\n",
       "      <td>2008</td>\n",
       "      <td>1</td>\n",
       "    </tr>\n",
       "    <tr>\n",
       "      <th>64</th>\n",
       "      <td>fuck</td>\n",
       "      <td>2009</td>\n",
       "      <td>1</td>\n",
       "    </tr>\n",
       "    <tr>\n",
       "      <th>65</th>\n",
       "      <td>shit</td>\n",
       "      <td>2014</td>\n",
       "      <td>1</td>\n",
       "    </tr>\n",
       "    <tr>\n",
       "      <th>66</th>\n",
       "      <td>shit</td>\n",
       "      <td>2015</td>\n",
       "      <td>1</td>\n",
       "    </tr>\n",
       "    <tr>\n",
       "      <th>67</th>\n",
       "      <td>damn</td>\n",
       "      <td>2003</td>\n",
       "      <td>1</td>\n",
       "    </tr>\n",
       "  </tbody>\n",
       "</table>\n",
       "<p>68 rows × 3 columns</p>\n",
       "</div>"
      ],
      "text/plain": [
       "   badWord  year  count\n",
       "0     fuck  2019     32\n",
       "1     shit  2018     15\n",
       "2     kiss  2015     13\n",
       "3     fuck  2013     11\n",
       "4     fuck  2016     10\n",
       "..     ...   ...    ...\n",
       "63    kiss  2008      1\n",
       "64    fuck  2009      1\n",
       "65    shit  2014      1\n",
       "66    shit  2015      1\n",
       "67    damn  2003      1\n",
       "\n",
       "[68 rows x 3 columns]"
      ]
     },
     "execution_count": 11,
     "metadata": {},
     "output_type": "execute_result"
    }
   ],
   "source": [
    "df_word_count = pf.words_per_year_T4(df)\n",
    "df_word_count"
   ]
  },
  {
   "cell_type": "markdown",
   "id": "alive-dating",
   "metadata": {},
   "source": [
    "### Visualization"
   ]
  },
  {
   "cell_type": "code",
   "execution_count": 12,
   "id": "incomplete-logistics",
   "metadata": {},
   "outputs": [
    {
     "data": {
      "text/plain": [
       "Text(0.5, 0, 'Time (years)')"
      ]
     },
     "execution_count": 12,
     "metadata": {},
     "output_type": "execute_result"
    },
    {
     "data": {
      "image/png": "[encoded data removed]",
      "text/plain": [
       "<Figure size 432x288 with 1 Axes>"
      ]
     },
     "metadata": {
      "needs_background": "light"
     },
     "output_type": "display_data"
    }
   ],
   "source": [
    "sns.lineplot(data=df_word_count, x='year', y='count', hue = \"badWord\")\n",
    "plt.xticks(range(2001,2020,2))\n",
    "plt.title('Usage of top 5 swear words over time')\n",
    "plt.ylabel('Count')\n",
    "plt.xlabel('Time (years)')"
   ]
  }
 ],
 "metadata": {
  "kernelspec": {
   "display_name": "Python 3",
   "language": "python",
   "name": "python3"
  },
  "language_info": {
   "codemirror_mode": {
    "name": "ipython",
    "version": 3
   },
   "file_extension": ".py",
   "mimetype": "text/x-python",
   "name": "python",
   "nbconvert_exporter": "python",
   "pygments_lexer": "ipython3",
   "version": "3.8.5"
  }
 },
 "nbformat": 4,
 "nbformat_minor": 5
}
