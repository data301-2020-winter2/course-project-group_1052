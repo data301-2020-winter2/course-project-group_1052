{
 "cells": [
  {
   "cell_type": "code",
   "execution_count": 2,
   "id": "ethical-literacy",
   "metadata": {},
   "outputs": [],
   "source": [
    "import os\n",
    "import pandas as pd\n",
    "import numpy as np\n",
    "import matplotlib.pyplot as plt\n",
    "import seaborn as sns"
   ]
  },
  {
   "cell_type": "code",
   "execution_count": 4,
   "id": "homeless-newspaper",
   "metadata": {},
   "outputs": [
    {
     "data": {
      "text/plain": [
       "'E:\\\\4th-Year\\\\DATA-301\\\\DATA-301-Directory\\\\course-project-group_1052\\\\analysis\\\\Thomas'"
      ]
     },
     "execution_count": 4,
     "metadata": {},
     "output_type": "execute_result"
    }
   ],
   "source": [
    "os.getcwd()"
   ]
  },
  {
   "cell_type": "code",
   "execution_count": 5,
   "id": "skilled-thesaurus",
   "metadata": {},
   "outputs": [],
   "source": [
    "os.chdir('E:\\\\4th-Year\\\\DATA-301\\\\DATA-301-Directory\\\\course-project-group_1052')\n",
    "from analysis.scripts import project_functions_Tom as pf"
   ]
  },
  {
   "cell_type": "code",
   "execution_count": 6,
   "id": "prescribed-things",
   "metadata": {},
   "outputs": [
    {
     "data": {
      "text/html": [
       "<div>\n",
       "<style scoped>\n",
       "    .dataframe tbody tr th:only-of-type {\n",
       "        vertical-align: middle;\n",
       "    }\n",
       "\n",
       "    .dataframe tbody tr th {\n",
       "        vertical-align: top;\n",
       "    }\n",
       "\n",
       "    .dataframe thead th {\n",
       "        text-align: right;\n",
       "    }\n",
       "</style>\n",
       "<table border=\"1\" class=\"dataframe\">\n",
       "  <thead>\n",
       "    <tr style=\"text-align: right;\">\n",
       "      <th></th>\n",
       "      <th>ogArtist</th>\n",
       "      <th>badWord</th>\n",
       "      <th>count</th>\n",
       "      <th>category</th>\n",
       "      <th>year</th>\n",
       "      <th>isCensored</th>\n",
       "      <th>isPresent</th>\n",
       "    </tr>\n",
       "  </thead>\n",
       "  <tbody>\n",
       "    <tr>\n",
       "      <th>244</th>\n",
       "      <td>Christina Aguilera</td>\n",
       "      <td>sex</td>\n",
       "      <td>1</td>\n",
       "      <td>sexual</td>\n",
       "      <td>2001</td>\n",
       "      <td>1</td>\n",
       "      <td>1</td>\n",
       "    </tr>\n",
       "    <tr>\n",
       "      <th>831</th>\n",
       "      <td>Len</td>\n",
       "      <td>man</td>\n",
       "      <td>1</td>\n",
       "      <td>identity</td>\n",
       "      <td>2001</td>\n",
       "      <td>1</td>\n",
       "      <td>1</td>\n",
       "    </tr>\n",
       "    <tr>\n",
       "      <th>832</th>\n",
       "      <td>LFO</td>\n",
       "      <td>hip</td>\n",
       "      <td>2</td>\n",
       "      <td>sexual</td>\n",
       "      <td>2001</td>\n",
       "      <td>1</td>\n",
       "      <td>1</td>\n",
       "    </tr>\n",
       "    <tr>\n",
       "      <th>67</th>\n",
       "      <td>Aaliyah</td>\n",
       "      <td>freak</td>\n",
       "      <td>1</td>\n",
       "      <td>sexual</td>\n",
       "      <td>2002</td>\n",
       "      <td>1</td>\n",
       "      <td>1</td>\n",
       "    </tr>\n",
       "    <tr>\n",
       "      <th>126</th>\n",
       "      <td>Baha Men</td>\n",
       "      <td>woman</td>\n",
       "      <td>3</td>\n",
       "      <td>identity</td>\n",
       "      <td>2002</td>\n",
       "      <td>1</td>\n",
       "      <td>1</td>\n",
       "    </tr>\n",
       "    <tr>\n",
       "      <th>...</th>\n",
       "      <td>...</td>\n",
       "      <td>...</td>\n",
       "      <td>...</td>\n",
       "      <td>...</td>\n",
       "      <td>...</td>\n",
       "      <td>...</td>\n",
       "      <td>...</td>\n",
       "    </tr>\n",
       "    <tr>\n",
       "      <th>386</th>\n",
       "      <td>Ed Sheeran</td>\n",
       "      <td>cigarette</td>\n",
       "      <td>1</td>\n",
       "      <td>alcohol &amp; drugs</td>\n",
       "      <td>2019</td>\n",
       "      <td>1</td>\n",
       "      <td>1</td>\n",
       "    </tr>\n",
       "    <tr>\n",
       "      <th>385</th>\n",
       "      <td>Ed Sheeran</td>\n",
       "      <td>bottle</td>\n",
       "      <td>1</td>\n",
       "      <td>alcohol &amp; drugs</td>\n",
       "      <td>2019</td>\n",
       "      <td>1</td>\n",
       "      <td>1</td>\n",
       "    </tr>\n",
       "    <tr>\n",
       "      <th>384</th>\n",
       "      <td>Ed Sheeran</td>\n",
       "      <td>bar</td>\n",
       "      <td>3</td>\n",
       "      <td>alcohol &amp; drugs</td>\n",
       "      <td>2019</td>\n",
       "      <td>1</td>\n",
       "      <td>1</td>\n",
       "    </tr>\n",
       "    <tr>\n",
       "      <th>382</th>\n",
       "      <td>Ed Sheeran</td>\n",
       "      <td>bar</td>\n",
       "      <td>1</td>\n",
       "      <td>alcohol &amp; drugs</td>\n",
       "      <td>2019</td>\n",
       "      <td>1</td>\n",
       "      <td>1</td>\n",
       "    </tr>\n",
       "    <tr>\n",
       "      <th>19</th>\n",
       "      <td>Hilltop Hoods</td>\n",
       "      <td>god</td>\n",
       "      <td>1</td>\n",
       "      <td>other</td>\n",
       "      <td>2019</td>\n",
       "      <td>1</td>\n",
       "      <td>1</td>\n",
       "    </tr>\n",
       "  </tbody>\n",
       "</table>\n",
       "<p>1353 rows × 7 columns</p>\n",
       "</div>"
      ],
      "text/plain": [
       "               ogArtist    badWord  count         category  year  isCensored  \\\n",
       "244  Christina Aguilera        sex      1           sexual  2001           1   \n",
       "831                 Len        man      1         identity  2001           1   \n",
       "832                 LFO        hip      2           sexual  2001           1   \n",
       "67              Aaliyah      freak      1           sexual  2002           1   \n",
       "126            Baha Men      woman      3         identity  2002           1   \n",
       "..                  ...        ...    ...              ...   ...         ...   \n",
       "386          Ed Sheeran  cigarette      1  alcohol & drugs  2019           1   \n",
       "385          Ed Sheeran     bottle      1  alcohol & drugs  2019           1   \n",
       "384          Ed Sheeran        bar      3  alcohol & drugs  2019           1   \n",
       "382          Ed Sheeran        bar      1  alcohol & drugs  2019           1   \n",
       "19        Hilltop Hoods        god      1            other  2019           1   \n",
       "\n",
       "     isPresent  \n",
       "244          1  \n",
       "831          1  \n",
       "832          1  \n",
       "67           1  \n",
       "126          1  \n",
       "..         ...  \n",
       "386          1  \n",
       "385          1  \n",
       "384          1  \n",
       "382          1  \n",
       "19           1  \n",
       "\n",
       "[1353 rows x 7 columns]"
      ]
     },
     "execution_count": 6,
     "metadata": {},
     "output_type": "execute_result"
    }
   ],
   "source": [
    "df = pf.load_and_process('data/raw/KB_censored-lyrics.csv')\n",
    "df"
   ]
  },
  {
   "cell_type": "markdown",
   "id": "impossible-liberal",
   "metadata": {},
   "source": [
    "### Number of unique swear words"
   ]
  },
  {
   "cell_type": "code",
   "execution_count": 7,
   "id": "further-cabinet",
   "metadata": {},
   "outputs": [
    {
     "data": {
      "text/plain": [
       "167"
      ]
     },
     "execution_count": 7,
     "metadata": {},
     "output_type": "execute_result"
    }
   ],
   "source": [
    "df['badWord'].nunique()"
   ]
  },
  {
   "cell_type": "markdown",
   "id": "informed-reducing",
   "metadata": {},
   "source": [
    "### Total number of samples"
   ]
  },
  {
   "cell_type": "code",
   "execution_count": 8,
   "id": "greatest-hamilton",
   "metadata": {},
   "outputs": [
    {
     "data": {
      "text/plain": [
       "1353"
      ]
     },
     "execution_count": 8,
     "metadata": {},
     "output_type": "execute_result"
    }
   ],
   "source": [
    "df['badWord'].count()"
   ]
  },
  {
   "cell_type": "markdown",
   "id": "running-grammar",
   "metadata": {},
   "source": [
    "### Counting the number of bad words total in the dataframe"
   ]
  },
  {
   "cell_type": "code",
   "execution_count": 9,
   "id": "waiting-insider",
   "metadata": {},
   "outputs": [
    {
     "data": {
      "text/html": [
       "<div>\n",
       "<style scoped>\n",
       "    .dataframe tbody tr th:only-of-type {\n",
       "        vertical-align: middle;\n",
       "    }\n",
       "\n",
       "    .dataframe tbody tr th {\n",
       "        vertical-align: top;\n",
       "    }\n",
       "\n",
       "    .dataframe thead th {\n",
       "        text-align: right;\n",
       "    }\n",
       "</style>\n",
       "<table border=\"1\" class=\"dataframe\">\n",
       "  <thead>\n",
       "    <tr style=\"text-align: right;\">\n",
       "      <th></th>\n",
       "      <th>badWord</th>\n",
       "      <th>frequency</th>\n",
       "    </tr>\n",
       "  </thead>\n",
       "  <tbody>\n",
       "    <tr>\n",
       "      <th>0</th>\n",
       "      <td>fuck</td>\n",
       "      <td>89</td>\n",
       "    </tr>\n",
       "    <tr>\n",
       "      <th>1</th>\n",
       "      <td>shit</td>\n",
       "      <td>77</td>\n",
       "    </tr>\n",
       "    <tr>\n",
       "      <th>2</th>\n",
       "      <td>damn</td>\n",
       "      <td>68</td>\n",
       "    </tr>\n",
       "    <tr>\n",
       "      <th>3</th>\n",
       "      <td>man</td>\n",
       "      <td>57</td>\n",
       "    </tr>\n",
       "    <tr>\n",
       "      <th>4</th>\n",
       "      <td>kiss</td>\n",
       "      <td>53</td>\n",
       "    </tr>\n",
       "    <tr>\n",
       "      <th>5</th>\n",
       "      <td>bitch</td>\n",
       "      <td>39</td>\n",
       "    </tr>\n",
       "    <tr>\n",
       "      <th>6</th>\n",
       "      <td>god</td>\n",
       "      <td>34</td>\n",
       "    </tr>\n",
       "    <tr>\n",
       "      <th>7</th>\n",
       "      <td>drink</td>\n",
       "      <td>33</td>\n",
       "    </tr>\n",
       "    <tr>\n",
       "      <th>8</th>\n",
       "      <td>touch</td>\n",
       "      <td>31</td>\n",
       "    </tr>\n",
       "    <tr>\n",
       "      <th>9</th>\n",
       "      <td>body</td>\n",
       "      <td>31</td>\n",
       "    </tr>\n",
       "    <tr>\n",
       "      <th>10</th>\n",
       "      <td>high</td>\n",
       "      <td>28</td>\n",
       "    </tr>\n",
       "    <tr>\n",
       "      <th>11</th>\n",
       "      <td>kill</td>\n",
       "      <td>28</td>\n",
       "    </tr>\n",
       "    <tr>\n",
       "      <th>12</th>\n",
       "      <td>sex</td>\n",
       "      <td>27</td>\n",
       "    </tr>\n",
       "    <tr>\n",
       "      <th>13</th>\n",
       "      <td>woman</td>\n",
       "      <td>27</td>\n",
       "    </tr>\n",
       "    <tr>\n",
       "      <th>14</th>\n",
       "      <td>blow</td>\n",
       "      <td>26</td>\n",
       "    </tr>\n",
       "    <tr>\n",
       "      <th>15</th>\n",
       "      <td>ass</td>\n",
       "      <td>26</td>\n",
       "    </tr>\n",
       "    <tr>\n",
       "      <th>16</th>\n",
       "      <td>drunk</td>\n",
       "      <td>23</td>\n",
       "    </tr>\n",
       "    <tr>\n",
       "      <th>17</th>\n",
       "      <td>die</td>\n",
       "      <td>23</td>\n",
       "    </tr>\n",
       "    <tr>\n",
       "      <th>18</th>\n",
       "      <td>sleep</td>\n",
       "      <td>21</td>\n",
       "    </tr>\n",
       "    <tr>\n",
       "      <th>19</th>\n",
       "      <td>hell</td>\n",
       "      <td>19</td>\n",
       "    </tr>\n",
       "  </tbody>\n",
       "</table>\n",
       "</div>"
      ],
      "text/plain": [
       "   badWord  frequency\n",
       "0     fuck         89\n",
       "1     shit         77\n",
       "2     damn         68\n",
       "3      man         57\n",
       "4     kiss         53\n",
       "5    bitch         39\n",
       "6      god         34\n",
       "7    drink         33\n",
       "8    touch         31\n",
       "9     body         31\n",
       "10    high         28\n",
       "11    kill         28\n",
       "12     sex         27\n",
       "13   woman         27\n",
       "14    blow         26\n",
       "15     ass         26\n",
       "16   drunk         23\n",
       "17     die         23\n",
       "18   sleep         21\n",
       "19    hell         19"
      ]
     },
     "execution_count": 9,
     "metadata": {},
     "output_type": "execute_result"
    }
   ],
   "source": [
    "dfBadWord_count = pf.badword_count(df)\n",
    "dfBadWord_count.head(20)"
   ]
  },
  {
   "cell_type": "markdown",
   "id": "attempted-brake",
   "metadata": {},
   "source": [
    "### Creating a visualization"
   ]
  },
  {
   "cell_type": "code",
   "execution_count": 10,
   "id": "unlikely-colors",
   "metadata": {},
   "outputs": [
    {
     "data": {
      "text/plain": [
       "Text(0.5, 0, 'Frequency (count)')"
      ]
     },
     "execution_count": 10,
     "metadata": {},
     "output_type": "execute_result"
    },
    {
     "data": {
      "image/png": "[encoded data removed]",
      "text/plain": [
       "<Figure size 432x288 with 1 Axes>"
      ]
     },
     "metadata": {
      "needs_background": "light"
     },
     "output_type": "display_data"
    }
   ],
   "source": [
    "sns.countplot(data = df,\n",
    "              y = 'badWord',\n",
    "              order = df['badWord'].value_counts().iloc[:10].index,\n",
    "              palette = 'colorblind'\n",
    "             )\n",
    "plt.title('Frequency of Uncensored Swear Words')\n",
    "plt.ylabel('Swear word')\n",
    "plt.xlabel('Frequency (count)')"
   ]
  },
  {
   "cell_type": "markdown",
   "id": "printable-spirit",
   "metadata": {},
   "source": [
    "### Which artist has the most diverse use of swear words?"
   ]
  },
  {
   "cell_type": "code",
   "execution_count": 11,
   "id": "dietary-cookbook",
   "metadata": {},
   "outputs": [
    {
     "data": {
      "text/html": [
       "<div>\n",
       "<style scoped>\n",
       "    .dataframe tbody tr th:only-of-type {\n",
       "        vertical-align: middle;\n",
       "    }\n",
       "\n",
       "    .dataframe tbody tr th {\n",
       "        vertical-align: top;\n",
       "    }\n",
       "\n",
       "    .dataframe thead th {\n",
       "        text-align: right;\n",
       "    }\n",
       "</style>\n",
       "<table border=\"1\" class=\"dataframe\">\n",
       "  <thead>\n",
       "    <tr style=\"text-align: right;\">\n",
       "      <th></th>\n",
       "      <th>ogArtist</th>\n",
       "      <th>badWord</th>\n",
       "    </tr>\n",
       "  </thead>\n",
       "  <tbody>\n",
       "    <tr>\n",
       "      <th>0</th>\n",
       "      <td>Katy Perry</td>\n",
       "      <td>25</td>\n",
       "    </tr>\n",
       "    <tr>\n",
       "      <th>1</th>\n",
       "      <td>Ed Sheeran</td>\n",
       "      <td>23</td>\n",
       "    </tr>\n",
       "    <tr>\n",
       "      <th>2</th>\n",
       "      <td>Taylor Swift</td>\n",
       "      <td>22</td>\n",
       "    </tr>\n",
       "    <tr>\n",
       "      <th>3</th>\n",
       "      <td>Maroon 5</td>\n",
       "      <td>19</td>\n",
       "    </tr>\n",
       "    <tr>\n",
       "      <th>4</th>\n",
       "      <td>Flo Rida</td>\n",
       "      <td>18</td>\n",
       "    </tr>\n",
       "    <tr>\n",
       "      <th>...</th>\n",
       "      <td>...</td>\n",
       "      <td>...</td>\n",
       "    </tr>\n",
       "    <tr>\n",
       "      <th>155</th>\n",
       "      <td>Miley Cyrus</td>\n",
       "      <td>1</td>\n",
       "    </tr>\n",
       "    <tr>\n",
       "      <th>156</th>\n",
       "      <td>Nelly</td>\n",
       "      <td>1</td>\n",
       "    </tr>\n",
       "    <tr>\n",
       "      <th>157</th>\n",
       "      <td>Carly Rae Jepsen</td>\n",
       "      <td>1</td>\n",
       "    </tr>\n",
       "    <tr>\n",
       "      <th>158</th>\n",
       "      <td>Camila Cabello</td>\n",
       "      <td>1</td>\n",
       "    </tr>\n",
       "    <tr>\n",
       "      <th>159</th>\n",
       "      <td>Madonna</td>\n",
       "      <td>1</td>\n",
       "    </tr>\n",
       "  </tbody>\n",
       "</table>\n",
       "<p>160 rows × 2 columns</p>\n",
       "</div>"
      ],
      "text/plain": [
       "             ogArtist  badWord\n",
       "0          Katy Perry       25\n",
       "1          Ed Sheeran       23\n",
       "2        Taylor Swift       22\n",
       "3            Maroon 5       19\n",
       "4            Flo Rida       18\n",
       "..                ...      ...\n",
       "155       Miley Cyrus        1\n",
       "156             Nelly        1\n",
       "157  Carly Rae Jepsen        1\n",
       "158    Camila Cabello        1\n",
       "159           Madonna        1\n",
       "\n",
       "[160 rows x 2 columns]"
      ]
     },
     "execution_count": 11,
     "metadata": {},
     "output_type": "execute_result"
    }
   ],
   "source": [
    "df_unique = pd.DataFrame(pf.unique_word_count(df)).reset_index()\n",
    "df_unique"
   ]
  },
  {
   "cell_type": "markdown",
   "id": "violent-africa",
   "metadata": {},
   "source": [
    "### Visualization"
   ]
  },
  {
   "cell_type": "code",
   "execution_count": null,
   "id": "graphic-sculpture",
   "metadata": {},
   "outputs": [],
   "source": [
    "sns.barplot(data=df_unique,\n",
    "              y = 'ogArtist',\n",
    "              order = df_unique['b'].sort_values().iloc[:10].index,\n",
    "              palette = 'colorblind'\n",
    "             )\n"
   ]
  },
  {
   "cell_type": "code",
   "execution_count": 13,
   "id": "better-spread",
   "metadata": {},
   "outputs": [
    {
     "data": {
      "text/plain": [
       "<AxesSubplot:xlabel='count', ylabel='ogArtist'>"
      ]
     },
     "execution_count": 13,
     "metadata": {},
     "output_type": "execute_result"
    },
    {
     "data": {
      "image/png": "[encoded data removed]",
      "text/plain": [
       "<Figure size 432x288 with 1 Axes>"
      ]
     },
     "metadata": {
      "needs_background": "light"
     },
     "output_type": "display_data"
    }
   ],
   "source": [
    "sns.countplot(data=df_unique,\n",
    "              y='ogArtist',\n",
    "              order = df_unique['ogArtist'].value_counts().iloc[:5].index\n",
    "             )"
   ]
  },
  {
   "cell_type": "code",
   "execution_count": null,
   "id": "experimental-liver",
   "metadata": {},
   "outputs": [],
   "source": [
    "df_word_count = pfT.words_per_year(df)\n",
    "df_word_count"
   ]
  },
  {
   "cell_type": "code",
   "execution_count": null,
   "id": "curious-athens",
   "metadata": {},
   "outputs": [],
   "source": [
    "sns.lineplot(data=df_word_count, x='year', y='count', hue = \"badWord\")\n",
    "plt.xticks(range(2001,2020,2))"
   ]
  }
 ],
 "metadata": {
  "kernelspec": {
   "display_name": "Python 3",
   "language": "python",
   "name": "python3"
  },
  "language_info": {
   "codemirror_mode": {
    "name": "ipython",
    "version": 3
   },
   "file_extension": ".py",
   "mimetype": "text/x-python",
   "name": "python",
   "nbconvert_exporter": "python",
   "pygments_lexer": "ipython3",
   "version": "3.8.5"
  }
 },
 "nbformat": 4,
 "nbformat_minor": 5
}
