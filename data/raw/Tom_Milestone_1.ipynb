{
 "cells": [
  {
   "cell_type": "code",
   "execution_count": 2,
   "metadata": {},
   "outputs": [],
   "source": [
    "import pandas"
   ]
  },
  {
   "cell_type": "code",
   "execution_count": 3,
   "metadata": {},
   "outputs": [
    {
     "name": "stdout",
     "output_type": "stream",
     "text": [
      "                 ogArtist                    songName badword  count  \\\n",
      "0           Ariana Grande                     7 rings   bitch      2   \n",
      "1          Britney Spears         till the world ends    blow      1   \n",
      "2          Britney Spears         till the world ends    blow      2   \n",
      "3          Britney Spears         till the world ends   touch      1   \n",
      "4               Elle King               ex's and oh's    high      1   \n",
      "...                   ...                         ...     ...    ...   \n",
      "1348  Zara Larsson & MNEK            never forget you     die      5   \n",
      "1349  Zara Larsson & MNEK            never forget you     die     10   \n",
      "1350  ZAYN & Taylor Swift  i don't wanna live forever  bullet      1   \n",
      "1351  Zedd & Alessia Cara                        stay     rum      1   \n",
      "1352  Zedd & Alessia Cara                        stay     rum      2   \n",
      "\n",
      "             category  year  isCensored  isPresent  \\\n",
      "0           profanity  2019           1          1   \n",
      "1     alcohol & drugs  2011           1          1   \n",
      "2     alcohol & drugs  2011           1          1   \n",
      "3              sexual  2011           1          1   \n",
      "4     alcohol & drugs  2016           1          1   \n",
      "...               ...   ...         ...        ...   \n",
      "1348         violence  2016           1          1   \n",
      "1349         violence  2016           1          1   \n",
      "1350         violence  2017           1          1   \n",
      "1351  alcohol & drugs  2017           1          1   \n",
      "1352  alcohol & drugs  2017           1          1   \n",
      "\n",
      "                                                ogLyric  \\\n",
      "0        Bought matching diamonds for six of my bitches   \n",
      "1                   Baby, let me blow your mind tonight   \n",
      "2                   Baby, let me blow your mind tonight   \n",
      "3       Get you off with the touch, dancing in the dark   \n",
      "4                     I get high, and I love to get low   \n",
      "...                                                 ...   \n",
      "1348                                  Til the day I die   \n",
      "1349                                          Die, yeah   \n",
      "1350  Wondering if I dodged a bullet or just lost th...   \n",
      "1351           Living on my sofa, drinking rum and cola   \n",
      "1352           Living on my sofa, drinking rum and cola   \n",
      "\n",
      "                                                kbLyric  \n",
      "0     Bought matching diamonds so they know what thi...  \n",
      "1                 Baby, come on wave your hands tonight  \n",
      "2                 Baby, come on wave your hands tonight  \n",
      "3           Set it off with a track dancing in the dark  \n",
      "4                       I get by, and I love to lay low  \n",
      "...                                                 ...  \n",
      "1348                                         cuts verse  \n",
      "1349                                         cuts verse  \n",
      "1350  Wondering if I dodged a problem or just lost t...  \n",
      "1351              Living on my sofa, drinking Coca-Cola  \n",
      "1352              Living on my sofa, drinking Coca-Cola  \n",
      "\n",
      "[1353 rows x 10 columns]\n"
     ]
    }
   ],
   "source": [
    "censored_lyrics = pandas.read_csv (r'C:\\Users\\thoma\\Desktop\\kidz-bop\\KB_censored-lyrics.csv')\n",
    "print(censored_lyrics)"
   ]
  },
  {
   "cell_type": "code",
   "execution_count": 6,
   "metadata": {},
   "outputs": [
    {
     "name": "stdout",
     "output_type": "stream",
     "text": [
      "          category  inSongs  censored  pctCensored\n",
      "0  alcohol & drugs      301       171    56.810631\n",
      "1         identity       96        45    46.875000\n",
      "2            other      258        85    32.945736\n",
      "3        profanity      198       176    88.888889\n",
      "4           sexual      447       185    41.387025\n",
      "5         violence      240        86    35.833333\n"
     ]
    }
   ],
   "source": [
    "group_overview = pandas.read_csv (r'C:\\Users\\thoma\\Desktop\\kidz-bop\\KB_group-overview.csv')\n",
    "print(group_overview)"
   ]
  },
  {
   "cell_type": "code",
   "execution_count": 10,
   "metadata": {},
   "outputs": [
    {
     "name": "stdout",
     "output_type": "stream",
     "text": [
      "    year    alcohol     sexual  profanity  identity      other   violence\n",
      "0   2001   0.000000   2.500000   0.000000  2.500000   0.000000   0.000000\n",
      "1   2002   0.000000  11.428571   5.714286  2.857143   2.857143   0.000000\n",
      "2   2003   0.000000   0.000000   3.448276  3.448276   1.724138   0.000000\n",
      "3   2004   1.587302   0.000000   0.000000  1.587302   0.000000   1.587302\n",
      "4   2005   0.000000   0.000000  12.500000  0.000000   0.000000   3.125000\n",
      "5   2006   2.439024   2.439024  24.390244  4.878049   0.000000   4.878049\n",
      "6   2007   6.024096   7.228916  12.048193  8.433735   4.819277   4.819277\n",
      "7   2008   3.571429   7.142857  10.714286  0.000000   5.357143   8.928571\n",
      "8   2009   5.813953  12.790698  13.953488  1.162791  10.465116   6.976744\n",
      "9   2010  14.457831  15.662651  10.843373  2.409639   6.024096   4.819277\n",
      "10  2011   2.500000   7.500000  10.000000  7.500000   5.000000   2.500000\n",
      "11  2012   8.256881  20.183486   4.587156  3.669725   5.504587   3.669725\n",
      "12  2013   8.219178   9.589041  17.808219  0.000000   5.479452   6.849315\n",
      "13  2014  21.250000  18.750000   7.500000  1.250000   6.250000   8.750000\n",
      "14  2015   7.936508  15.079365  10.317460  2.380952   3.174603   8.730159\n",
      "15  2016  15.625000  15.625000  15.625000  5.208333   7.291667   4.166667\n",
      "16  2017  28.676471  18.382353  13.235294  0.735294   5.147059   8.088235\n",
      "17  2018  19.327731  10.924370  17.647059  3.361345   5.042017  10.084034\n",
      "18  2019  16.666667  15.972222  15.277778  2.777778  13.194444   4.861111\n"
     ]
    }
   ],
   "source": [
    "proportions = pandas.read_csv (r'C:\\Users\\thoma\\Desktop\\kidz-bop\\KB_proportions.csv')\n",
    "print(proportions)"
   ]
  },
  {
   "cell_type": "code",
   "execution_count": 9,
   "metadata": {},
   "outputs": [
    {
     "name": "stdout",
     "output_type": "stream",
     "text": [
      "            category  badword  inSongs  censored  pctCensored\n",
      "0    alcohol & drugs   addict        8         4         50.0\n",
      "1    alcohol & drugs  alcohol        0         0          NaN\n",
      "2    alcohol & drugs      bar        5         3         60.0\n",
      "3    alcohol & drugs     bars        2         1         50.0\n",
      "4    alcohol & drugs     beer        1         0          0.0\n",
      "..               ...      ...      ...       ...          ...\n",
      "221         violence     thug        5         2         40.0\n",
      "222         violence  trigger        2         1         50.0\n",
      "223         violence   victim        1         1        100.0\n",
      "224         violence      war       10         1         10.0\n",
      "225         violence   weapon        1         1        100.0\n",
      "\n",
      "[226 rows x 5 columns]\n"
     ]
    }
   ],
   "source": [
    "word_overview = pandas.read_csv (r'C:\\Users\\thoma\\Desktop\\kidz-bop\\KB_word-overview.csv')\n",
    "print(word_overview)"
   ]
  },
  {
   "cell_type": "code",
   "execution_count": null,
   "metadata": {},
   "outputs": [],
   "source": []
  }
 ],
 "metadata": {
  "kernelspec": {
   "display_name": "Python 3",
   "language": "python",
   "name": "python3"
  },
  "language_info": {
   "codemirror_mode": {
    "name": "ipython",
    "version": 3
   },
   "file_extension": ".py",
   "mimetype": "text/x-python",
   "name": "python",
   "nbconvert_exporter": "python",
   "pygments_lexer": "ipython3",
   "version": "3.8.5"
  }
 },
 "nbformat": 4,
 "nbformat_minor": 4
}
