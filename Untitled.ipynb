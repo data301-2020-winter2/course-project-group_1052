{
 "cells": [
  {
   "cell_type": "code",
   "execution_count": 7,
   "metadata": {},
   "outputs": [],
   "source": [
    "import pandas as pd\n",
    "import os"
   ]
  },
  {
   "cell_type": "code",
   "execution_count": 11,
   "metadata": {},
   "outputs": [],
   "source": [
    "kidz_bop = pd.read_csv('data/raw/KB_censored-lyrics.csv')"
   ]
  },
  {
   "cell_type": "code",
   "execution_count": 14,
   "metadata": {},
   "outputs": [
    {
     "data": {
      "text/plain": [
       "<bound method NDFrame.head of                  ogArtist                    songName badword  count  \\\n",
       "0           Ariana Grande                     7 rings   bitch      2   \n",
       "1          Britney Spears         till the world ends    blow      1   \n",
       "2          Britney Spears         till the world ends    blow      2   \n",
       "3          Britney Spears         till the world ends   touch      1   \n",
       "4               Elle King               ex's and oh's    high      1   \n",
       "...                   ...                         ...     ...    ...   \n",
       "1348  Zara Larsson & MNEK            never forget you     die      5   \n",
       "1349  Zara Larsson & MNEK            never forget you     die     10   \n",
       "1350  ZAYN & Taylor Swift  i don't wanna live forever  bullet      1   \n",
       "1351  Zedd & Alessia Cara                        stay     rum      1   \n",
       "1352  Zedd & Alessia Cara                        stay     rum      2   \n",
       "\n",
       "             category  year  isCensored  isPresent  \\\n",
       "0           profanity  2019           1          1   \n",
       "1     alcohol & drugs  2011           1          1   \n",
       "2     alcohol & drugs  2011           1          1   \n",
       "3              sexual  2011           1          1   \n",
       "4     alcohol & drugs  2016           1          1   \n",
       "...               ...   ...         ...        ...   \n",
       "1348         violence  2016           1          1   \n",
       "1349         violence  2016           1          1   \n",
       "1350         violence  2017           1          1   \n",
       "1351  alcohol & drugs  2017           1          1   \n",
       "1352  alcohol & drugs  2017           1          1   \n",
       "\n",
       "                                                ogLyric  \\\n",
       "0        Bought matching diamonds for six of my bitches   \n",
       "1                   Baby, let me blow your mind tonight   \n",
       "2                   Baby, let me blow your mind tonight   \n",
       "3       Get you off with the touch, dancing in the dark   \n",
       "4                     I get high, and I love to get low   \n",
       "...                                                 ...   \n",
       "1348                                  Til the day I die   \n",
       "1349                                          Die, yeah   \n",
       "1350  Wondering if I dodged a bullet or just lost th...   \n",
       "1351           Living on my sofa, drinking rum and cola   \n",
       "1352           Living on my sofa, drinking rum and cola   \n",
       "\n",
       "                                                kbLyric  \n",
       "0     Bought matching diamonds so they know what thi...  \n",
       "1                 Baby, come on wave your hands tonight  \n",
       "2                 Baby, come on wave your hands tonight  \n",
       "3           Set it off with a track dancing in the dark  \n",
       "4                       I get by, and I love to lay low  \n",
       "...                                                 ...  \n",
       "1348                                         cuts verse  \n",
       "1349                                         cuts verse  \n",
       "1350  Wondering if I dodged a problem or just lost t...  \n",
       "1351              Living on my sofa, drinking Coca-Cola  \n",
       "1352              Living on my sofa, drinking Coca-Cola  \n",
       "\n",
       "[1353 rows x 10 columns]>"
      ]
     },
     "execution_count": 14,
     "metadata": {},
     "output_type": "execute_result"
    }
   ],
   "source": [
    "kidz_bop.head"
   ]
  },
  {
   "cell_type": "code",
   "execution_count": null,
   "metadata": {},
   "outputs": [],
   "source": []
  }
 ],
 "metadata": {
  "kernelspec": {
   "display_name": "Python 3",
   "language": "python",
   "name": "python3"
  },
  "language_info": {
   "codemirror_mode": {
    "name": "ipython",
    "version": 3
   },
   "file_extension": ".py",
   "mimetype": "text/x-python",
   "name": "python",
   "nbconvert_exporter": "python",
   "pygments_lexer": "ipython3",
   "version": "3.8.5"
  }
 },
 "nbformat": 4,
 "nbformat_minor": 4
}
